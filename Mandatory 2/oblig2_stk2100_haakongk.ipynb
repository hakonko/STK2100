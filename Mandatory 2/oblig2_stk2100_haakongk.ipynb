{
 "cells": [
  {
   "cell_type": "markdown",
   "metadata": {},
   "source": [
    "# STK2100 - Mandatory 2\n",
    "### Håkon Ganes Kornstad"
   ]
  },
  {
   "cell_type": "markdown",
   "metadata": {},
   "source": [
    "### Oppgave 1\n",
    "\n",
    "**a)** Figur A består utelukkende av vertikale og horisontale linjer. Hver region er tydelig avgrenset med rette, aksesorienterte kanter. Dette betyr at figur A kan ha blitt produsert av et standard regresjonstre.\n",
    "Figur B, C og D har derimot følgende problemer:\n",
    "Figur B: Regionen $C_5$ er ikke rektangulær. Den danner en L-form, noe som ikke kan oppstå med kun én splitt om gangen langs en akse.\n",
    "Figur C: Det finnes en skrå linje mellom $C_5$ og $C_7$. Dette er umulig i standard regresjonstrær som kun kan lage vertikale eller horisontale snitt.\n",
    "Figur D: Regionen $C_4$ omringes av andre regioner, og er derfor ikke mulig å skape med en sekvensiell, binær splitting langs én akse av gangen.\n",
    "\n",
    "**b)** For figur A:\n",
    "1) $x_1: t = 0.2$\n",
    "2) $x_2: t = 0.8$\n",
    "3) $x_1: t = 0.4$\n",
    "4) $x_2: t = 0.4$\n",
    "5) $x_1: t = 0.7$\n",
    "\n",
    "<img src=\"regressiontree.png\" alt=\"Regression tree\" width=\"500\"/>\n",
    "\n",
    "\n",
    "**c)** \n",
    "1) $f(x_1 = 0.6, x_2 = 0.6) = c_4 = 0.3 \\cdot 0.4 = 0.12$\n",
    "2) $f(x_1 = 0.1, x_2 = 0.6) = c_1 = 0.2 \\cdot 1.0 = 0.2$\n",
    "2) $f(x_1 = 0.6, x_2 = 0.1) = c_6 = 0.3 \\cdot 0.4 = 0.12$"
   ]
  },
  {
   "cell_type": "markdown",
   "metadata": {},
   "source": [
    "### Oppgave 2"
   ]
  },
  {
   "cell_type": "code",
   "execution_count": 71,
   "metadata": {
    "vscode": {
     "languageId": "r"
    }
   },
   "outputs": [],
   "source": [
    "wage <- read.csv(\"https://www.uio.no/studier/emner/matnat/math/STK2100/v25/oblig/wage.csv\", header = TRUE)"
   ]
  },
  {
   "cell_type": "markdown",
   "metadata": {},
   "source": [
    "**a)** "
   ]
  },
  {
   "cell_type": "code",
   "execution_count": 72,
   "metadata": {
    "vscode": {
     "languageId": "r"
    }
   },
   "outputs": [],
   "source": [
    "# divide to training and test set, making sure that all the covariates are included\n",
    "set.seed(050477)\n",
    "N = nrow(wage)\n",
    "train = sample(1:N, 1001, replace = FALSE)\n",
    "train_set = wage[train, ]\n",
    "test_set = wage[-train, ]\n"
   ]
  },
  {
   "cell_type": "code",
   "execution_count": 73,
   "metadata": {
    "vscode": {
     "languageId": "r"
    }
   },
   "outputs": [
    {
     "data": {
      "text/plain": [
       "\n",
       "Call:\n",
       "lm(formula = wage ~ ., data = train_set)\n",
       "\n",
       "Residuals:\n",
       "    Min      1Q  Median      3Q     Max \n",
       "-97.194 -19.137  -2.427  13.628 211.492 \n",
       "\n",
       "Coefficients:\n",
       "                              Estimate Std. Error t value Pr(>|t|)    \n",
       "(Intercept)                 -2892.4511  1081.4739  -2.675 0.007607 ** \n",
       "year                            1.4803     0.5392   2.745 0.006156 ** \n",
       "age                             0.3870     0.1040   3.721 0.000209 ***\n",
       "maritlUnmarried               -15.0432     2.5009  -6.015 2.53e-09 ***\n",
       "raceOther                      -5.9168     5.2006  -1.138 0.255515    \n",
       "raceWhite                       2.9736     3.5478   0.838 0.402147    \n",
       "education2. HS Grad             8.6817     4.0305   2.154 0.031481 *  \n",
       "education3. Some College       16.6865     4.2729   3.905 0.000101 ***\n",
       "education4. College Grad       31.8788     4.2969   7.419 2.54e-13 ***\n",
       "education5. Advanced Degree    55.0578     4.7659  11.552  < 2e-16 ***\n",
       "jobclass2. Information          0.2542     2.2874   0.111 0.911539    \n",
       "health2. >=Very Good            6.2495     2.4264   2.576 0.010151 *  \n",
       "health_ins2. No               -18.3461     2.3770  -7.718 2.88e-14 ***\n",
       "---\n",
       "Signif. codes:  0 '***' 0.001 '**' 0.01 '*' 0.05 '.' 0.1 ' ' 1\n",
       "\n",
       "Residual standard error: 33.6 on 988 degrees of freedom\n",
       "Multiple R-squared:  0.3412,\tAdjusted R-squared:  0.3332 \n",
       "F-statistic: 42.65 on 12 and 988 DF,  p-value: < 2.2e-16\n"
      ]
     },
     "metadata": {},
     "output_type": "display_data"
    }
   ],
   "source": [
    "train_set.fit <- lm(wage ~ ., data = train_set)\n",
    "summary(train_set.fit)"
   ]
  },
  {
   "cell_type": "markdown",
   "metadata": {
    "vscode": {
     "languageId": "r"
    }
   },
   "source": [
    "Vi ser fra `summary` at kovariatene `raceOther` og særlig `raceWhite` har liten påvirkning på forklaringsvariabelen. Dette kan leses fra t-verdiene som er blant de laveste, med en tilhørende p-verdi $> 0.05$. `jobclass2 Information` har også en veldig liten signifikans. Alle disse variablene er dummyvariabler for klasser med flere kovariater; det kan derfor hende at de bidrar noe mer samlet enn hver for seg. Dette kan utforskes videre med en $anova$-test. Videre kan vi se fra R-squared at modellen forklarer $0.3412$ av variabiliteten i datasettet, og at den samlede p-verdien er $< 2.2e-16$, noe som sier at modellen som helhet har god signifikans i prediksjon av data for treningssettet."
   ]
  },
  {
   "cell_type": "code",
   "execution_count": 74,
   "metadata": {
    "vscode": {
     "languageId": "r"
    }
   },
   "outputs": [
    {
     "name": "stdout",
     "output_type": "stream",
     "text": [
      "[1] 1182.68\n"
     ]
    }
   ],
   "source": [
    "wage.preds <- predict(train_set.fit, newdata = test_set)\n",
    "\n",
    "actual <- test_set$wage\n",
    "mse.wage.preds <- mean((wage.preds -actual)^2)\n",
    "print(mse.wage.preds)"
   ]
  },
  {
   "cell_type": "markdown",
   "metadata": {},
   "source": [
    "**b)**"
   ]
  },
  {
   "cell_type": "code",
   "execution_count": 75,
   "metadata": {
    "vscode": {
     "languageId": "r"
    }
   },
   "outputs": [
    {
     "data": {
      "text/plain": [
       "\n",
       "Call: gam(formula = wage ~ ns(year, df = 4) + ns(age, df = 4) + . - \n",
       "    year - age, data = train_set)\n",
       "Deviance Residuals:\n",
       "   Min     1Q Median     3Q    Max \n",
       "-92.87 -19.31  -2.17  13.79 216.26 \n",
       "\n",
       "(Dispersion Parameter for gaussian family taken to be 1118.342)\n",
       "\n",
       "    Null Deviance: 1692893 on 1000 degrees of freedom\n",
       "Residual Deviance: 1098212 on 982 degrees of freedom\n",
       "AIC: 9888.154 \n",
       "\n",
       "Number of Local Scoring Iterations: 2 \n",
       "\n",
       "Anova for Parametric Effects\n",
       "                  Df  Sum Sq Mean Sq F value    Pr(>F)    \n",
       "ns(year, df = 4)   4   14147    3537  3.1626  0.013508 *  \n",
       "ns(age, df = 4)    4  126385   31596 28.2527 < 2.2e-16 ***\n",
       "maritl             1   43877   43877 39.2339 5.615e-10 ***\n",
       "race               2    4720    2360  2.1103  0.121746    \n",
       "education          4  336315   84079 75.1817 < 2.2e-16 ***\n",
       "jobclass           1     728     728  0.6512  0.419886    \n",
       "health             1    9350    9350  8.3606  0.003919 ** \n",
       "health_ins         1   59159   59159 52.8987 7.171e-13 ***\n",
       "Residuals        982 1098212    1118                      \n",
       "---\n",
       "Signif. codes:  0 '***' 0.001 '**' 0.01 '*' 0.05 '.' 0.1 ' ' 1\n"
      ]
     },
     "metadata": {},
     "output_type": "display_data"
    },
    {
     "name": "stdout",
     "output_type": "stream",
     "text": [
      "[1] 1167.567\n"
     ]
    }
   ],
   "source": [
    "library(gam)\n",
    "library(splines)\n",
    "\n",
    "train_set.gam <- gam(wage ~ ns(year, df=4) + ns(age, df=4) + . - year - age, data = train_set)\n",
    "summary(train_set.gam)\n",
    "\n",
    "wage_gam1.preds <- predict(train_set.gam, newdata = test_set)\n",
    "wage_gam1.preds.mse <- mean((wage_gam1.preds - actual)^2)\n",
    "print(wage_gam1.preds.mse)"
   ]
  },
  {
   "cell_type": "markdown",
   "metadata": {},
   "source": [
    "**ii)** Splines skal ikke brukes for kvalitative kovariater fordi kvalitative variabler er diskrete og kategoriske uten en naturlig numerisk rekkefølge. Splines krever kontinuitet og en naturlig numerisk orden, noe som ikke eksisterer for kategoriske variabler\n",
    "\n",
    "**iii)** Ut fra `summary` ser vi at `year` har en lavere F-verdi på 3.16 og p-verdi på 0.013 som er statistisk signifikant, men relativt svak sammenlignet med andre kovariater. `age` er svært signifikant når den er modellert med natural splines, noe som tyder på en ikke-lineær sammenheng med `wage`. Men for `year` er det kanskje ikke en komplisert ikke-lineær sammenheng med `wage`, og vi kan prøve oss med en lineær."
   ]
  },
  {
   "cell_type": "code",
   "execution_count": 76,
   "metadata": {
    "vscode": {
     "languageId": "r"
    }
   },
   "outputs": [
    {
     "data": {
      "text/plain": [
       "\n",
       "Call: gam(formula = wage ~ ns(age, df = 4) + . - age, data = train_set)\n",
       "Deviance Residuals:\n",
       "    Min      1Q  Median      3Q     Max \n",
       "-92.236 -19.241  -2.251  14.170 215.167 \n",
       "\n",
       "(Dispersion Parameter for gaussian family taken to be 1116.219)\n",
       "\n",
       "    Null Deviance: 1692893 on 1000 degrees of freedom\n",
       "Residual Deviance: 1099476 on 985 degrees of freedom\n",
       "AIC: 9883.306 \n",
       "\n",
       "Number of Local Scoring Iterations: 2 \n",
       "\n",
       "Anova for Parametric Effects\n",
       "                 Df  Sum Sq Mean Sq F value    Pr(>F)    \n",
       "ns(age, df = 4)   4  128430   32108 28.7646 < 2.2e-16 ***\n",
       "year              1    7291    7291  6.5317  0.010746 *  \n",
       "maritl            1   44303   44303 39.6905 4.479e-10 ***\n",
       "race              2    4810    2405  2.1547  0.116486    \n",
       "education         4  338691   84673 75.8566 < 2.2e-16 ***\n",
       "jobclass          1     870     870  0.7799  0.377398    \n",
       "health            1    9323    9323  8.3519  0.003937 ** \n",
       "health_ins        1   59699   59699 53.4832 5.396e-13 ***\n",
       "Residuals       985 1099476    1116                      \n",
       "---\n",
       "Signif. codes:  0 '***' 0.001 '**' 0.01 '*' 0.05 '.' 0.1 ' ' 1\n"
      ]
     },
     "metadata": {},
     "output_type": "display_data"
    },
    {
     "name": "stdout",
     "output_type": "stream",
     "text": [
      "[1] 1164.058\n"
     ]
    }
   ],
   "source": [
    "train_set.gam.1 <- gam(wage ~ ns(age, df=4) + . - age, data = train_set)\n",
    "summary(train_set.gam.1)\n",
    "\n",
    "wage_gam2.preds <- predict(train_set.gam.1, newdata = test_set)\n",
    "wage_gam2.preds.mse <- mean((wage_gam2.preds - actual)^2)\n",
    "print(wage_gam2.preds.mse)"
   ]
  },
  {
   "cell_type": "markdown",
   "metadata": {},
   "source": [
    "Vi ser at vi får minst like godt resultat for lineær `year`, og dette gir en enklere, mer tolkabar modell som har mindre varians, og følgelig mindre sjanse for overtrening. Videre gir den den beste signifikansen ($p=0.0107$) så langt for `year`-variabelen. Dette tyder på at akkurat `year` er en enkel variabel som er godt egnet for lineær modellering."
   ]
  },
  {
   "cell_type": "code",
   "execution_count": 79,
   "metadata": {
    "vscode": {
     "languageId": "r"
    }
   },
   "outputs": [
    {
     "data": {
      "text/plain": [
       "\n",
       "Call: gam(formula = wage ~ ns(age, df = 4) + . - age - race - jobclass, \n",
       "    data = train_set)\n",
       "Deviance Residuals:\n",
       "    Min      1Q  Median      3Q     Max \n",
       "-91.492 -19.462  -2.606  13.923 213.540 \n",
       "\n",
       "(Dispersion Parameter for gaussian family taken to be 1118.636)\n",
       "\n",
       "    Null Deviance: 1692893 on 1000 degrees of freedom\n",
       "Residual Deviance: 1105213 on 988 degrees of freedom\n",
       "AIC: 9882.515 \n",
       "\n",
       "Number of Local Scoring Iterations: 2 \n",
       "\n",
       "Anova for Parametric Effects\n",
       "                 Df  Sum Sq Mean Sq F value    Pr(>F)    \n",
       "ns(age, df = 4)   4  128430   32108 28.7024 < 2.2e-16 ***\n",
       "year              1    7291    7291  6.5176  0.010831 *  \n",
       "maritl            1   44303   44303 39.6048 4.667e-10 ***\n",
       "education         4  335238   83809 74.9211 < 2.2e-16 ***\n",
       "health            1    9885    9885  8.8366  0.003024 ** \n",
       "health_ins        1   62533   62533 55.9015 1.678e-13 ***\n",
       "Residuals       988 1105213    1119                      \n",
       "---\n",
       "Signif. codes:  0 '***' 0.001 '**' 0.01 '*' 0.05 '.' 0.1 ' ' 1\n"
      ]
     },
     "metadata": {},
     "output_type": "display_data"
    },
    {
     "name": "stdout",
     "output_type": "stream",
     "text": [
      "[1] 1162.123\n"
     ]
    }
   ],
   "source": [
    "train_set.gam2 <- gam(wage ~ ns(age, df=4) + . - age - race - jobclass, data = train_set)\n",
    "summary(train_set.gam2)\n",
    "\n",
    "wage.preds.2 <- predict(train_set.gam2, newdata = test_set)\n",
    "\n",
    "mse.wage.gam2.preds <- mean((wage.preds.2 -actual)^2)\n",
    "print(mse.wage.gam2.preds)"
   ]
  },
  {
   "cell_type": "markdown",
   "metadata": {
    "vscode": {
     "languageId": "r"
    }
   },
   "source": [
    "**(iv)** Da vi fjernet kovariablene `jobclass` og `race` så vi at MSE ikke forbedret seg vesentlig, men dette betyr også at disse to kovariatene ikke var signifikante, og hadde heller ingen negativ effekt."
   ]
  },
  {
   "cell_type": "markdown",
   "metadata": {
    "vscode": {
     "languageId": "r"
    }
   },
   "source": [
    "**c)** Fitting a regression tree to the original data"
   ]
  },
  {
   "cell_type": "code",
   "execution_count": 89,
   "metadata": {
    "vscode": {
     "languageId": "r"
    }
   },
   "outputs": [
    {
     "data": {
      "image/png": "[encoded data removed]",
      "text/plain": [
       "plot without title"
      ]
     },
     "metadata": {
      "image/png": {
       "height": 420,
       "width": 420
      }
     },
     "output_type": "display_data"
    }
   ],
   "source": [
    "library(tree)\n",
    "train_set.tree <- tree(wage ~ year + age + factor(education) + factor(health_ins) + factor(maritl) + factor(jobclass) + factor(race) + factor(health), data = train_set)\n",
    "\n",
    "\n",
    "par(bg=\"white\")\n",
    "plot(train_set.tree)\n",
    "text(train_set.tree, pretty=0, cex=0.8)"
   ]
  },
  {
   "cell_type": "markdown",
   "metadata": {
    "vscode": {
     "languageId": "r"
    }
   },
   "source": [
    "Vi ser at variablene `education`, `health_ins`, `maritl` og `age` er viktige bidragsytere i regresjonstreet. Dette stemmer godt med resultatene fra regresjonsmodellene **(a og b)**. I regresjonstreet vises imidlertid ikke variablene `year`, `race`, `jobclass`, eller `health`. Selv om variabelen health faktisk var signifikant i regresjonsmodellene, velges den ikke i treet. Dette skyldes sannsynligvis at treet prioriterer variabler som gir tydelige og raske forbedringer av prediksjonen. Variabelen year var moderat signifikant i regresjonsmodellene, men her viser treet at andre variabler gir bedre splitting og dermed bedre prediktiv verdi."
   ]
  },
  {
   "cell_type": "code",
   "execution_count": 101,
   "metadata": {
    "vscode": {
     "languageId": "r"
    }
   },
   "outputs": [
    {
     "data": {
      "image/png": "[encoded data removed]",
      "text/plain": [
       "plot without title"
      ]
     },
     "metadata": {
      "image/png": {
       "height": 420,
       "width": 420
      }
     },
     "output_type": "display_data"
    },
    {
     "data": {
      "image/png": "[encoded data removed]",
      "text/plain": [
       "plot without title"
      ]
     },
     "metadata": {
      "image/png": {
       "height": 420,
       "width": 420
      }
     },
     "output_type": "display_data"
    }
   ],
   "source": [
    "set.seed(1)\n",
    "cv.result <- cv.tree(train_set.tree, K=10) # K=10 er 10-fold CV\n",
    "par(bg=\"white\")\n",
    "plot(cv.result$size, cv.result$dev, type=\"b\", xlab=\"Tree Size\", ylab=\"Deviance\")\n",
    "\n",
    "# finding best tree size based on deviance\n",
    "optimal.size <- cv.result$size[which.min(cv.result$dev)]\n",
    "\n",
    "# using the optimal size\n",
    "pruned.tree <- prune.tree(train_set.tree, best=optimal.size)\n",
    "par(bg=\"white\")\n",
    "plot(pruned.tree)\n",
    "text(pruned.tree, pretty=0)\n"
   ]
  },
  {
   "cell_type": "markdown",
   "metadata": {},
   "source": [
    "Vi ser at treet etter pruning med 10-fold cross-validation har blitt redusert til kun 4 løvnoder. Nå brukes bare variablene `education` og `health_ins`, noe som er færre variabler enn tidligere. Variabelen `maritl` og `age`, som var med i det opprinnelige treet, har blitt fjernet etter pruningen.\n",
    "Dette betyr at modellen etter pruning er betydelig enklere, noe som antyder at disse to variablene alene (`education` og `health_ins`) er tilstrekkelig for en robust prediksjon. Modellen er dermed omtrent halvparten så stor som det originale treet, noe som reduserer risiko for overtrening."
   ]
  },
  {
   "cell_type": "markdown",
   "metadata": {},
   "source": [
    "**iii)**"
   ]
  },
  {
   "cell_type": "code",
   "execution_count": 104,
   "metadata": {
    "vscode": {
     "languageId": "r"
    }
   },
   "outputs": [
    {
     "name": "stdout",
     "output_type": "stream",
     "text": [
      "MSE on regular tree: 1297.31 \n"
     ]
    }
   ],
   "source": [
    "preds.tree <- predict(train_set.tree, newdata=test_set)\n",
    "actual <- test_set$wage\n",
    "mse.tree <- mean((actual - preds.tree)^2)\n",
    "cat(\"MSE on regular tree:\", mse.tree, \"\\n\")"
   ]
  },
  {
   "cell_type": "code",
   "execution_count": 105,
   "metadata": {
    "vscode": {
     "languageId": "r"
    }
   },
   "outputs": [
    {
     "name": "stdout",
     "output_type": "stream",
     "text": [
      "MSE on pruned tree: 1338.695 \n"
     ]
    }
   ],
   "source": [
    "preds.tree.pruned <- predict(pruned.tree, newdata=test_set)\n",
    "mse.tree.pruned <- mean((actual - preds.tree.pruned)^2)\n",
    "cat(\"MSE on pruned tree:\", mse.tree.pruned, \"\\n\")"
   ]
  },
  {
   "cell_type": "markdown",
   "metadata": {
    "vscode": {
     "languageId": "r"
    }
   },
   "source": [
    "Vi ser at MSE for regresjonstreet ($1297.31$) og det prunede treet ($1338.695$) er vesentlig høyere enn både den lineære regresjonsmodellen og GAM-modellen vi tidligere evaluerte (begge hadde MSE rundt $1164$). Dette viser at regresjonstrærne gir dårligere prediksjonsevne på testdataene. Selv om trær er enkle å tolke og har lavere varians, har de her blitt for enkle og lider dermed av høy bias (undertilpasning).\n",
    "På bakgrunn av dette er GAM-modellen med én lineær kvantitativ variabel (`year` lineær) og én natural cubic spline (`age`, $df=4$), samt to fjernede variabler (`race` og `jobclass`), klart å foretrekke. Denne modellen gir best prediksjonsytelse (laveste MSE) og en god balanse mellom fleksibilitet og tolkbarhet."
   ]
  },
  {
   "cell_type": "markdown",
   "metadata": {},
   "source": [
    "### Oppgave 3\n",
    "\n",
    "**a)**"
   ]
  },
  {
   "cell_type": "code",
   "execution_count": 108,
   "metadata": {
    "vscode": {
     "languageId": "r"
    }
   },
   "outputs": [
    {
     "data": {
      "text/html": [
       "<table class=\"dataframe\">\n",
       "<caption>A data.frame: 6 x 7</caption>\n",
       "<thead>\n",
       "\t<tr><th></th><th scope=col>pelvInc</th><th scope=col>pelvTilt</th><th scope=col>lumbLord</th><th scope=col>SacrSl</th><th scope=col>pelvRad</th><th scope=col>degrS</th><th scope=col>class</th></tr>\n",
       "\t<tr><th></th><th scope=col>&lt;dbl&gt;</th><th scope=col>&lt;dbl&gt;</th><th scope=col>&lt;dbl&gt;</th><th scope=col>&lt;dbl&gt;</th><th scope=col>&lt;dbl&gt;</th><th scope=col>&lt;dbl&gt;</th><th scope=col>&lt;int&gt;</th></tr>\n",
       "</thead>\n",
       "<tbody>\n",
       "\t<tr><th scope=row>1</th><td>63.03</td><td>22.55</td><td>39.61</td><td>40.48</td><td> 98.67</td><td>-0.25</td><td>1</td></tr>\n",
       "\t<tr><th scope=row>2</th><td>39.06</td><td>10.06</td><td>25.02</td><td>29.00</td><td>114.41</td><td> 4.56</td><td>1</td></tr>\n",
       "\t<tr><th scope=row>3</th><td>68.83</td><td>22.22</td><td>50.09</td><td>46.61</td><td>105.99</td><td>-3.53</td><td>1</td></tr>\n",
       "\t<tr><th scope=row>4</th><td>69.30</td><td>24.65</td><td>44.31</td><td>44.64</td><td>101.87</td><td>11.21</td><td>1</td></tr>\n",
       "\t<tr><th scope=row>5</th><td>49.71</td><td> 9.65</td><td>28.32</td><td>40.06</td><td>108.17</td><td> 7.92</td><td>1</td></tr>\n",
       "\t<tr><th scope=row>6</th><td>40.25</td><td>13.92</td><td>25.12</td><td>26.33</td><td>130.33</td><td> 2.23</td><td>1</td></tr>\n",
       "</tbody>\n",
       "</table>\n"
      ],
      "text/latex": [
       "A data.frame: 6 x 7\n",
       "\\begin{tabular}{r|lllllll}\n",
       "  & pelvInc & pelvTilt & lumbLord & SacrSl & pelvRad & degrS & class\\\\\n",
       "  & <dbl> & <dbl> & <dbl> & <dbl> & <dbl> & <dbl> & <int>\\\\\n",
       "\\hline\n",
       "\t1 & 63.03 & 22.55 & 39.61 & 40.48 &  98.67 & -0.25 & 1\\\\\n",
       "\t2 & 39.06 & 10.06 & 25.02 & 29.00 & 114.41 &  4.56 & 1\\\\\n",
       "\t3 & 68.83 & 22.22 & 50.09 & 46.61 & 105.99 & -3.53 & 1\\\\\n",
       "\t4 & 69.30 & 24.65 & 44.31 & 44.64 & 101.87 & 11.21 & 1\\\\\n",
       "\t5 & 49.71 &  9.65 & 28.32 & 40.06 & 108.17 &  7.92 & 1\\\\\n",
       "\t6 & 40.25 & 13.92 & 25.12 & 26.33 & 130.33 &  2.23 & 1\\\\\n",
       "\\end{tabular}\n"
      ],
      "text/markdown": [
       "\n",
       "A data.frame: 6 x 7\n",
       "\n",
       "| <!--/--> | pelvInc &lt;dbl&gt; | pelvTilt &lt;dbl&gt; | lumbLord &lt;dbl&gt; | SacrSl &lt;dbl&gt; | pelvRad &lt;dbl&gt; | degrS &lt;dbl&gt; | class &lt;int&gt; |\n",
       "|---|---|---|---|---|---|---|---|\n",
       "| 1 | 63.03 | 22.55 | 39.61 | 40.48 |  98.67 | -0.25 | 1 |\n",
       "| 2 | 39.06 | 10.06 | 25.02 | 29.00 | 114.41 |  4.56 | 1 |\n",
       "| 3 | 68.83 | 22.22 | 50.09 | 46.61 | 105.99 | -3.53 | 1 |\n",
       "| 4 | 69.30 | 24.65 | 44.31 | 44.64 | 101.87 | 11.21 | 1 |\n",
       "| 5 | 49.71 |  9.65 | 28.32 | 40.06 | 108.17 |  7.92 | 1 |\n",
       "| 6 | 40.25 | 13.92 | 25.12 | 26.33 | 130.33 |  2.23 | 1 |\n",
       "\n"
      ],
      "text/plain": [
       "  pelvInc pelvTilt lumbLord SacrSl pelvRad degrS class\n",
       "1 63.03   22.55    39.61    40.48   98.67  -0.25 1    \n",
       "2 39.06   10.06    25.02    29.00  114.41   4.56 1    \n",
       "3 68.83   22.22    50.09    46.61  105.99  -3.53 1    \n",
       "4 69.30   24.65    44.31    44.64  101.87  11.21 1    \n",
       "5 49.71    9.65    28.32    40.06  108.17   7.92 1    \n",
       "6 40.25   13.92    25.12    26.33  130.33   2.23 1    "
      ]
     },
     "metadata": {},
     "output_type": "display_data"
    }
   ],
   "source": [
    "vert <- read.csv(\"https://www.uio.no/studier/emner/matnat/math/STK2100/v25/oblig/vertebral-column.csv\", header=TRUE)\n",
    "head(vert)"
   ]
  },
  {
   "cell_type": "markdown",
   "metadata": {},
   "source": [
    "**i)**"
   ]
  },
  {
   "cell_type": "code",
   "execution_count": 119,
   "metadata": {
    "vscode": {
     "languageId": "r"
    }
   },
   "outputs": [
    {
     "data": {
      "text/plain": [
       "\n",
       "  0   1 \n",
       "100 210 "
      ]
     },
     "metadata": {},
     "output_type": "display_data"
    },
    {
     "data": {
      "text/plain": [
       "\n",
       "        0         1 \n",
       "0.3236715 0.6763285 "
      ]
     },
     "metadata": {},
     "output_type": "display_data"
    },
    {
     "data": {
      "text/plain": [
       "\n",
       "        0         1 \n",
       "0.3203883 0.6796117 "
      ]
     },
     "metadata": {},
     "output_type": "display_data"
    }
   ],
   "source": [
    "# checking the distribution of the classes\n",
    "table(vert$class)\n",
    "\n",
    "set.seed(050477)\n",
    "ind_class1 <- which(vert$class == 1)\n",
    "ind_class2 <- which(vert$class != 1)\n",
    "n_class1 <- length(ind_class1)\n",
    "n_class2 <- length(ind_class2)\n",
    "\n",
    "# choosing 2/3 for training for each class\n",
    "train_class1 <- sample(ind_class1, size=ceiling((2/3)*n_class1))\n",
    "train_class2 <- sample(ind_class2, size=ceiling((2/3)*n_class2))\n",
    "train_indices <- c(train_class1, train_class2)\n",
    "vert.train <- vert[train_indices, ]\n",
    "vert.test <- vert[-train_indices, ]\n",
    "\n",
    "prop.table(table(vert.train$class))\n",
    "prop.table(table(vert.test$class))"
   ]
  },
  {
   "cell_type": "markdown",
   "metadata": {},
   "source": [
    "**ii)**"
   ]
  },
  {
   "cell_type": "code",
   "execution_count": 124,
   "metadata": {
    "vscode": {
     "languageId": "r"
    }
   },
   "outputs": [
    {
     "name": "stderr",
     "output_type": "stream",
     "text": [
      "Warning message:\n",
      "\"glm.fit: fitted probabilities numerically 0 or 1 occurred\"\n"
     ]
    },
    {
     "data": {
      "text/plain": [
       "\n",
       "Call:\n",
       "glm(formula = class ~ ., family = binomial(link = logit), data = vert.train)\n",
       "\n",
       "Coefficients:\n",
       "              Estimate Std. Error z value Pr(>|z|)    \n",
       "(Intercept)  17.687201   4.304646   4.109 3.98e-05 ***\n",
       "pelvInc     -27.693483  44.964657  -0.616    0.538    \n",
       "pelvTilt     27.776156  44.974632   0.618    0.537    \n",
       "lumbLord     -0.006355   0.030127  -0.211    0.833    \n",
       "SacrSl       27.568910  44.966640   0.613    0.540    \n",
       "pelvRad      -0.124631   0.029800  -4.182 2.89e-05 ***\n",
       "degrS         0.192429   0.032021   6.009 1.86e-09 ***\n",
       "---\n",
       "Signif. codes:  0 '***' 0.001 '**' 0.01 '*' 0.05 '.' 0.1 ' ' 1\n",
       "\n",
       "(Dispersion parameter for binomial family taken to be 1)\n",
       "\n",
       "    Null deviance: 260.66  on 206  degrees of freedom\n",
       "Residual deviance: 110.96  on 200  degrees of freedom\n",
       "AIC: 124.96\n",
       "\n",
       "Number of Fisher Scoring iterations: 8\n"
      ]
     },
     "metadata": {},
     "output_type": "display_data"
    }
   ],
   "source": [
    "fit.vert.logit <- glm(class ~ ., family=binomial(link = logit), data=vert.train)\n",
    "summary(fit.vert.logit)"
   ]
  },
  {
   "cell_type": "markdown",
   "metadata": {
    "vscode": {
     "languageId": "r"
    }
   },
   "source": [
    "Når man ser på denne modellen med `summary()`, viser kovariatene `pelvInc` og `lumbLord` ingen signifikant effekt ($p < 0.05$). Koeffisientene deres er negative, noe som indikerer at de snarere bidrar til bedre helse enn uhelse. Men vi kan ikke konkludere noe om denne effekten, siden de er så insignifikante. Kovariatene `pelvTilt` og `SacrSl` ser også ut til å være insignifikante i positiv retning (økt risiko), med lave z-verdier og en høy p-verdi $> 0.05$. Fra denne logistiske regresjonsmodellen ser det kun ut som `pelvRad` og `degrS` bidrar signifikant, der `pelvRad` minker og `degrS` øker risikoen for sykdom.\n",
    "\n",
    "**iii)**"
   ]
  },
  {
   "cell_type": "code",
   "execution_count": 118,
   "metadata": {
    "vscode": {
     "languageId": "r"
    }
   },
   "outputs": [
    {
     "data": {
      "text/html": [
       "0.145631067961165"
      ],
      "text/latex": [
       "0.145631067961165"
      ],
      "text/markdown": [
       "0.145631067961165"
      ],
      "text/plain": [
       "[1] 0.1456311"
      ]
     },
     "metadata": {},
     "output_type": "display_data"
    }
   ],
   "source": [
    "vert.preds.prob <- predict(fit.vert.logit, newdata = vert.test, type = \"response\")\n",
    "vert.preds <- ifelse(vert.preds.prob >= 0.5, 1, 0)\n",
    "\n",
    "mean_misclass_error <- mean(vert.preds != vert.test$class)\n",
    "mean_misclass_error\n"
   ]
  },
  {
   "cell_type": "markdown",
   "metadata": {},
   "source": [
    "**b) i)**"
   ]
  },
  {
   "cell_type": "code",
   "execution_count": 122,
   "metadata": {
    "vscode": {
     "languageId": "r"
    }
   },
   "outputs": [
    {
     "name": "stdout",
     "output_type": "stream",
     "text": [
      "Call:\n",
      "lda(class ~ ., data = vert.train)\n",
      "\n",
      "Prior probabilities of groups:\n",
      "        0         1 \n",
      "0.3236715 0.6763285 \n",
      "\n",
      "Group means:\n",
      "   pelvInc pelvTilt lumbLord   SacrSl  pelvRad     degrS\n",
      "0 51.74149 12.98955 43.00642 38.75194 125.0661  2.334776\n",
      "1 64.48750 19.36436 55.97786 45.12371 115.3861 37.589214\n",
      "\n",
      "Coefficients of linear discriminants:\n",
      "                  LD1\n",
      "pelvInc  -14.29364131\n",
      "pelvTilt  14.31680297\n",
      "lumbLord   0.02011586\n",
      "SacrSl    14.25897295\n",
      "pelvRad   -0.05768708\n",
      "degrS      0.02081701\n"
     ]
    }
   ],
   "source": [
    "library(MASS)\n",
    "fit.vert.lda <- lda(class ~ ., data = vert.train)\n",
    "print(fit.vert.lda)"
   ]
  },
  {
   "cell_type": "markdown",
   "metadata": {},
   "source": [
    "**b) ii)**"
   ]
  },
  {
   "cell_type": "code",
   "execution_count": 125,
   "metadata": {
    "vscode": {
     "languageId": "r"
    }
   },
   "outputs": [
    {
     "name": "stdout",
     "output_type": "stream",
     "text": [
      "[1] 0.1747573\n"
     ]
    }
   ],
   "source": [
    "vert.lda.pred <- predict(fit.vert.lda, newdata = vert.test)\n",
    "y.hat.lda <- vert.lda.pred$class\n",
    "\n",
    "lda_misclass_error <- mean(y.hat.lda != vert.test$class)\n",
    "print(lda_misclass_error)"
   ]
  },
  {
   "cell_type": "markdown",
   "metadata": {},
   "source": [
    "**c) i)** "
   ]
  },
  {
   "cell_type": "code",
   "execution_count": 127,
   "metadata": {
    "vscode": {
     "languageId": "r"
    }
   },
   "outputs": [
    {
     "name": "stdout",
     "output_type": "stream",
     "text": [
      "Call:\n",
      "qda(class ~ ., data = vert.train)\n",
      "\n",
      "Prior probabilities of groups:\n",
      "        0         1 \n",
      "0.3236715 0.6763285 \n",
      "\n",
      "Group means:\n",
      "   pelvInc pelvTilt lumbLord   SacrSl  pelvRad     degrS\n",
      "0 51.74149 12.98955 43.00642 38.75194 125.0661  2.334776\n",
      "1 64.48750 19.36436 55.97786 45.12371 115.3861 37.589214\n"
     ]
    }
   ],
   "source": [
    "fit.vert.qda <- qda(class ~ ., data = vert.train)\n",
    "print(fit.vert.qda)"
   ]
  },
  {
   "cell_type": "code",
   "execution_count": 128,
   "metadata": {
    "vscode": {
     "languageId": "r"
    }
   },
   "outputs": [
    {
     "name": "stdout",
     "output_type": "stream",
     "text": [
      "[1] 0.2135922\n"
     ]
    }
   ],
   "source": [
    "vert.qda.pred <- predict(fit.vert.qda, newdata = vert.test)\n",
    "y.hat.qda <- vert.qda.pred$class\n",
    "\n",
    "qda_misclass_error <- mean(y.hat.qda != vert.test$class)\n",
    "print(qda_misclass_error)"
   ]
  },
  {
   "cell_type": "markdown",
   "metadata": {},
   "source": [
    "Etter kjøring med både LDA og QDA ser vi at begge presterer dårligere enn vår ordinære logistisk regresjonsmodell. Når vi observerer at LDA-modellen presterer dårligere enn logistisk regresjon på testsettet, tyder det på at antakelsen til LDA om lik kovariansmatrise i begge klassene ikke er helt riktig i dette datasettet. Dataene er sannsynligvis ikke godt beskrevet av en modell som krever at variablene oppfører seg helt likt (i forhold til varians og kovarians) innenfor hver gruppe.\n",
    "\n",
    "Når QDA (som ikke gjør denne antakelsen) presterer enda dårligere enn LDA, er årsaken sannsynligvis at modellen blir for kompleks (har for mange parametere) og dermed tilpasser seg \"for godt\" til treningsdataene (overtilpassing), noe som fører til dårligere ytelse på testsettet. Derfor passer den logistiske regresjonen, som ikke krever eksplisitte antakelser om kovariansmatriser, bedre for disse dataene."
   ]
  },
  {
   "cell_type": "markdown",
   "metadata": {},
   "source": [
    "**d) i)**"
   ]
  },
  {
   "cell_type": "markdown",
   "metadata": {},
   "source": [
    "**ii)**"
   ]
  },
  {
   "cell_type": "code",
   "execution_count": 139,
   "metadata": {
    "vscode": {
     "languageId": "r"
    }
   },
   "outputs": [
    {
     "name": "stdout",
     "output_type": "stream",
     "text": [
      "Trener modell med size = 1 og decay = 0 \n",
      "Misclassification error: 0.1456311 \n",
      "\n",
      "Trener modell med size = 1 og decay = 0.001 \n",
      "Misclassification error: 0.1359223 \n",
      "\n",
      "Trener modell med size = 1 og decay = 0.01 \n",
      "Misclassification error: 0.1359223 \n",
      "\n",
      "Trener modell med size = 1 og decay = 0.1 \n",
      "Misclassification error: 0.1359223 \n",
      "\n",
      "Trener modell med size = 1 og decay = 0.5 \n",
      "Misclassification error: 0.1553398 \n",
      "\n",
      "Trener modell med size = 3 og decay = 0 \n",
      "Misclassification error: 0.1553398 \n",
      "\n",
      "Trener modell med size = 3 og decay = 0.001 \n",
      "Misclassification error: 0.1650485 \n",
      "\n",
      "Trener modell med size = 3 og decay = 0.01 \n",
      "Misclassification error: 0.1165049 \n",
      "\n",
      "Trener modell med size = 3 og decay = 0.1 \n",
      "Misclassification error: 0.1456311 \n",
      "\n",
      "Trener modell med size = 3 og decay = 0.5 \n",
      "Misclassification error: 0.1553398 \n",
      "\n",
      "Trener modell med size = 5 og decay = 0 \n",
      "Misclassification error: 0.1553398 \n",
      "\n",
      "Trener modell med size = 5 og decay = 0.001 \n",
      "Misclassification error: 0.184466 \n",
      "\n",
      "Trener modell med size = 5 og decay = 0.01 \n",
      "Misclassification error: 0.1553398 \n",
      "\n",
      "Trener modell med size = 5 og decay = 0.1 \n",
      "Misclassification error: 0.1553398 \n",
      "\n",
      "Trener modell med size = 5 og decay = 0.5 \n",
      "Misclassification error: 0.1553398 \n",
      "\n",
      "Trener modell med size = 7 og decay = 0 \n",
      "Misclassification error: 0.1553398 \n",
      "\n",
      "Trener modell med size = 7 og decay = 0.001 \n",
      "Misclassification error: 0.1747573 \n",
      "\n",
      "Trener modell med size = 7 og decay = 0.01 \n",
      "Misclassification error: 0.1650485 \n",
      "\n",
      "Trener modell med size = 7 og decay = 0.1 \n",
      "Misclassification error: 0.1456311 \n",
      "\n",
      "Trener modell med size = 7 og decay = 0.5 \n",
      "Misclassification error: 0.1553398 \n",
      "\n",
      "Trener modell med size = 10 og decay = 0 \n",
      "Misclassification error: 0.2038835 \n",
      "\n",
      "Trener modell med size = 10 og decay = 0.001 \n",
      "Misclassification error: 0.184466 \n",
      "\n",
      "Trener modell med size = 10 og decay = 0.01 \n",
      "Misclassification error: 0.1553398 \n",
      "\n",
      "Trener modell med size = 10 og decay = 0.1 \n",
      "Misclassification error: 0.1456311 \n",
      "\n",
      "Trener modell med size = 10 og decay = 0.5 \n",
      "Misclassification error: 0.1553398 \n",
      "\n",
      "Beste modell:\n",
      "Size = 3 , Decay = 0.01 , Misclassification Error = 0.1165049 \n"
     ]
    }
   ],
   "source": [
    "library(nnet)\n",
    "\n",
    "# standardiserer dataene (alle bortsett fra kolonne 7 som er class)\n",
    "vert.train.scaled <- vert.train\n",
    "vert.test.scaled <- vert.test\n",
    "\n",
    "vert.train.scaled[, -7] <- scale(vert.train[, -7])\n",
    "vert.test.scaled[, -7] <- scale(vert.test[, -7], \n",
    "                                center = attr(scale(vert.train[, -7]), \"scaled:center\"), \n",
    "                                scale = attr(scale(vert.train[, -7]), \"scaled:scale\"))\n",
    "\n",
    "# konverterer klasse til faktor\n",
    "vert.train.scaled$class <- factor(vert.train.scaled$class)\n",
    "vert.test.scaled$class <- factor(vert.test.scaled$class)\n",
    "\n",
    "set.seed(050477)\n",
    "\n",
    "# setter parametere vi vil teste på\n",
    "sizes <- c(1, 3, 5, 7, 10)\n",
    "decays <- c(0, 0.001, 0.01, 0.1, 0.5)\n",
    "\n",
    "# beholdere for å lagre beste resultat\n",
    "best_error <- Inf\n",
    "best_size <- NA\n",
    "best_decay <- NA\n",
    "best_model <- NULL\n",
    "\n",
    "# trenings-loop\n",
    "for (size in sizes) {\n",
    "  for (decay in decays) {\n",
    "    cat(\"Trener modell med size =\", size, \"og decay =\", decay, \"\\n\")\n",
    "    \n",
    "    nn.model <- nnet(class ~ ., \n",
    "                     data = vert.train.scaled, \n",
    "                     size = size, \n",
    "                     decay = decay, \n",
    "                     maxit = 500, \n",
    "                     linout = FALSE, \n",
    "                     trace = FALSE)\n",
    "    \n",
    "    # predikerer på testsettet\n",
    "    preds <- predict(nn.model, newdata = vert.test.scaled, type = \"class\")\n",
    "    \n",
    "    # beregner feil\n",
    "    error <- mean(preds != vert.test.scaled$class)\n",
    "    cat(\"Misclassification error:\", error, \"\\n\\n\")\n",
    "    \n",
    "    # lagrer den beste modellen\n",
    "    if (error < best_error) {\n",
    "      best_error <- error\n",
    "      best_size <- size\n",
    "      best_decay <- decay\n",
    "      best_model <- nn.model\n",
    "    }\n",
    "  }\n",
    "}\n",
    "\n",
    "cat(\"Beste modell:\\n\")\n",
    "cat(\"Size =\", best_size, \", Decay =\", best_decay, \", Misclassification Error =\", best_error, \"\\n\")\n"
   ]
  },
  {
   "cell_type": "markdown",
   "metadata": {
    "vscode": {
     "languageId": "r"
    }
   },
   "source": [
    "Det nevrale nettverket presterer betydelig bedre enn det logistiske, og det kan tyde på at vi har ikke-lineære sammenhenger mellom kovariatene og klassen. Siden vi satt opp en optimaliseringsalgoritme med flere muligheter for størrelse og decay, har vi klart å finne en modell som er kompleks nok til å fange opp denne ikke-lineariteten, men samtidig være godt nok regulert til å unngå overtilpasning."
   ]
  }
 ],
 "metadata": {
  "kernelspec": {
   "display_name": "R",
   "language": "R",
   "name": "ir"
  },
  "language_info": {
   "codemirror_mode": "r",
   "file_extension": ".r",
   "mimetype": "text/x-r-source",
   "name": "R",
   "pygments_lexer": "r",
   "version": "4.4.2"
  }
 },
 "nbformat": 4,
 "nbformat_minor": 2
}
