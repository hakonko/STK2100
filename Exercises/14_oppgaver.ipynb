{
 "cells": [
  {
   "cell_type": "markdown",
   "metadata": {},
   "source": [
    "### Problem 1a\n",
    "\n",
    "En beskyttende faktor ville hatt et estimat lavere enn null, altså negativt, og en lav p-verdi. Vi har ingen slike i datasettet, så det er dermed ingen av disse kovariatene som reduserer sjansen for kreft i modellen vår. Den eneste signifikante variabelen er drinks, og denne øker sjansen for kreft.\n",
    "\n",
    "Estimatet for skjæringspunktet gir log-oddsen for å få kreft når alle andre forklaringsvariabler er null. Siden det ville være usannsynlig at en 0 år gammel kvinne som ikke hadde verken drukket eller røyket, skulle få sykdommen, er det vanskelig å tolke intercept i denne sammenheng.\n",
    "\n",
    "Man kan tenke seg at problemet knyttet til alder ville være linket opp mot skala. `age` har en langt høyere verdi enn de binære variablene `cigs` og `sexMale`, og også (for de aller fleste) `drinks`. En min-max-skalering eller sentrering av variabelen `age` rundt dens gjennomsnitt ville derfor kunne vært hensiktsmessig.\n",
    "\n",
    "\n",
    "### Problem 1d\n",
    "\n",
    "Vi ser nå på en logistisk regresjonsmodell med kun `cigsSmoker`. Da skal vi bruke sigmoid på utgangen.\n",
    "\n",
    "Vi får $$\\hat{y} = \\beta_0 + \\beta_1 x_1$$\n",
    "$$P(z | x_1) = \\sigma(\\hat{y})$$\n",
    "\n",
    "Dette gir sjanse for kreft:\n",
    "\n",
    "Non-smoker: $$\\hat{y} = -0.96141 + 1.11964 \\cdot 0 = -0.96141$$\n",
    "$$p_0 = \\frac{1}{1 + e^{0.96141}} = 0.2766$$\n",
    "\n",
    "Smoker: $$\\hat{y} = -0.96141 + 1.11964 \\cdot 1 = 0.15823$$\n",
    "$$p_0 = \\frac{1}{1 + e^{0.15823}} = 0.539$$\n",
    "\n",
    "Dermed har vi $47 \\cdot 0.2766 = 13$ kreft hos non-smoker, og $47 - 13 = 34$ friske.\n",
    "Videre: $152 \\cdot 0.539 = 82$ kreft hos smoker, og $152 - 82 = 70$ friske.\n",
    "\n"
   ]
  },
  {
   "cell_type": "markdown",
   "metadata": {},
   "source": [
    "### Problem 1e\n",
    "Deloppgave: Vi får 0, ved venstre, venstre, høyre.\n",
    "Vi gjør en 10-fold cross validation der vi prøver for forskjellig antall noder. Vi måler opp til alle 16 nodene er inkludert. 10 fold cross validation betyr at vi deler inn datasettet i 10 like deler, og trener basert på 9 av dem. Dette gjøres iterativt, og vi bruker her deviance som måleenhet på hvor bra treet gjør det. \n",
    "\n",
    "Vi kan se at det beste treet er det med 4 noder. Dette vil da være det samme treet som i forrige deloppgave. \n",
    "\n"
   ]
  },
  {
   "cell_type": "markdown",
   "metadata": {},
   "source": []
  },
  {
   "cell_type": "markdown",
   "metadata": {},
   "source": []
  },
  {
   "cell_type": "markdown",
   "metadata": {},
   "source": []
  }
 ],
 "metadata": {
  "language_info": {
   "name": "python"
  }
 },
 "nbformat": 4,
 "nbformat_minor": 2
}
