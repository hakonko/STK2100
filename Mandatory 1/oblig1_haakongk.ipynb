{
 "cells": [
  {
   "cell_type": "markdown",
   "metadata": {},
   "source": [
    "### Problem 1\n",
    "\n",
    "a) Given the regression models for the response $Y$ and single covariate $x$, we can write the following as linear regression models as is (i):\n",
    "\n",
    "$$\\text{2.} \\quad Y = \\beta_0 + \\beta_1 \\frac{1}{x} + \\beta_2 x^2 + \\varepsilon$$\n",
    "\n",
    "If a parameter is kept fixed (ii):\n",
    "\n",
    "$$\\text{4.} \\quad Y = \\beta_0 + \\beta_1 x^{\\beta_2} + \\varepsilon \\ | \\ \\beta_2 \\text{ fixed}$$\n",
    "\n",
    "After a suitable transformation (iii):\n",
    "\\begin{align*}\\text{3.} \\quad Y &= \\frac{1}{\\beta_0 + \\beta_1 x + \\beta_2 x^2 + \\varepsilon} \\\\\n",
    "&\\Downarrow \\ P = (Y^{-1}) \\\\\n",
    "P &= \\beta_0 + \\beta_1 x + \\beta_2 x^2 + \\varepsilon \\end{align*}\n",
    "\n",
    "\\begin{align*}\\text{5.} \\quad Y &= \\beta_0 x^{\\beta_1} \\varepsilon\\\\\n",
    "&\\Downarrow \\ P = (\\ln{Y})\\\\\n",
    "P &= \\ln(\\beta_0) + \\beta_1 \\ln(x) + \\hat{\\varepsilon} \\end{align*}\n",
    "\n",
    "Note: For 5. the model is linear after the $\\ln$-transformation, however $\\hat{\\varepsilon}$ might be from another distribution than the original $\\varepsilon$.\n",
    "\n",
    "b) For the models that can be used, their dimensions will be\n",
    "* For 2. $\\quad \\mathbf{X}: \\ (N \\times 3)$ matrix (with intercept), $\\quad \\beta: \\ (3 \\times 1)$ vector\n",
    "* For 4. $\\quad \\mathbf{X}: \\ (N \\times 2)$ matrix (with intercept), $\\quad \\beta: \\ (2 \\times 1)$ vector\n",
    "* For 3. $\\quad \\mathbf{X}: \\ (N \\times 3)$ matrix (with intercept), $\\quad \\beta: \\ (3 \\times 1)$ vector\n",
    "* For 5. $\\quad \\mathbf{X}: \\ (N \\times 2)$ matrix (with intercept), $\\quad \\beta: \\ (2 \\times 1)$ vector"
   ]
  },
  {
   "cell_type": "markdown",
   "metadata": {},
   "source": [
    "### Problem 2\n",
    "\n",
    "a)"
   ]
  },
  {
   "cell_type": "code",
   "execution_count": 2,
   "metadata": {
    "vscode": {
     "languageId": "r"
    }
   },
   "outputs": [],
   "source": [
    "nuclear.data <- read.table(\"https://www.uio.no/studier/emner/matnat/math/STK2100/data/nuclear.dat\", sep = \"\\t\", header = FALSE)"
   ]
  },
  {
   "cell_type": "code",
   "execution_count": 3,
   "metadata": {
    "vscode": {
     "languageId": "r"
    }
   },
   "outputs": [
    {
     "data": {
      "text/html": [
       "<table class=\"dataframe\">\n",
       "<caption>A data.frame: 6 x 11</caption>\n",
       "<thead>\n",
       "\t<tr><th></th><th scope=col>V1</th><th scope=col>V2</th><th scope=col>V3</th><th scope=col>V4</th><th scope=col>V5</th><th scope=col>V6</th><th scope=col>V7</th><th scope=col>V8</th><th scope=col>V9</th><th scope=col>V10</th><th scope=col>V11</th></tr>\n",
       "\t<tr><th></th><th scope=col>&lt;chr&gt;</th><th scope=col>&lt;chr&gt;</th><th scope=col>&lt;chr&gt;</th><th scope=col>&lt;chr&gt;</th><th scope=col>&lt;chr&gt;</th><th scope=col>&lt;chr&gt;</th><th scope=col>&lt;chr&gt;</th><th scope=col>&lt;chr&gt;</th><th scope=col>&lt;chr&gt;</th><th scope=col>&lt;chr&gt;</th><th scope=col>&lt;chr&gt;</th></tr>\n",
       "</thead>\n",
       "<tbody>\n",
       "\t<tr><th scope=row>1</th><td>cost  </td><td>date </td><td>t1</td><td>t2</td><td>cap </td><td>pr</td><td>ne</td><td>ct</td><td>bw</td><td>cum.n</td><td>pt</td></tr>\n",
       "\t<tr><th scope=row>2</th><td>460.05</td><td>68.58</td><td>14</td><td>46</td><td>687 </td><td>0 </td><td>1 </td><td>0 </td><td>0 </td><td>14   </td><td>0 </td></tr>\n",
       "\t<tr><th scope=row>3</th><td>452.99</td><td>67.33</td><td>10</td><td>73</td><td>1065</td><td>0 </td><td>0 </td><td>1 </td><td>0 </td><td>1    </td><td>0 </td></tr>\n",
       "\t<tr><th scope=row>4</th><td>443.22</td><td>67.33</td><td>10</td><td>85</td><td>1065</td><td>1 </td><td>0 </td><td>1 </td><td>0 </td><td>1    </td><td>0 </td></tr>\n",
       "\t<tr><th scope=row>5</th><td>652.32</td><td>68   </td><td>11</td><td>67</td><td>1065</td><td>0 </td><td>1 </td><td>1 </td><td>0 </td><td>12   </td><td>0 </td></tr>\n",
       "\t<tr><th scope=row>6</th><td>642.23</td><td>68   </td><td>11</td><td>78</td><td>1065</td><td>1 </td><td>1 </td><td>1 </td><td>0 </td><td>12   </td><td>0 </td></tr>\n",
       "</tbody>\n",
       "</table>\n"
      ],
      "text/latex": [
       "A data.frame: 6 x 11\n",
       "\\begin{tabular}{r|lllllllllll}\n",
       "  & V1 & V2 & V3 & V4 & V5 & V6 & V7 & V8 & V9 & V10 & V11\\\\\n",
       "  & <chr> & <chr> & <chr> & <chr> & <chr> & <chr> & <chr> & <chr> & <chr> & <chr> & <chr>\\\\\n",
       "\\hline\n",
       "\t1 & cost   & date  & t1 & t2 & cap  & pr & ne & ct & bw & cum.n & pt\\\\\n",
       "\t2 & 460.05 & 68.58 & 14 & 46 & 687  & 0  & 1  & 0  & 0  & 14    & 0 \\\\\n",
       "\t3 & 452.99 & 67.33 & 10 & 73 & 1065 & 0  & 0  & 1  & 0  & 1     & 0 \\\\\n",
       "\t4 & 443.22 & 67.33 & 10 & 85 & 1065 & 1  & 0  & 1  & 0  & 1     & 0 \\\\\n",
       "\t5 & 652.32 & 68    & 11 & 67 & 1065 & 0  & 1  & 1  & 0  & 12    & 0 \\\\\n",
       "\t6 & 642.23 & 68    & 11 & 78 & 1065 & 1  & 1  & 1  & 0  & 12    & 0 \\\\\n",
       "\\end{tabular}\n"
      ],
      "text/markdown": [
       "\n",
       "A data.frame: 6 x 11\n",
       "\n",
       "| <!--/--> | V1 &lt;chr&gt; | V2 &lt;chr&gt; | V3 &lt;chr&gt; | V4 &lt;chr&gt; | V5 &lt;chr&gt; | V6 &lt;chr&gt; | V7 &lt;chr&gt; | V8 &lt;chr&gt; | V9 &lt;chr&gt; | V10 &lt;chr&gt; | V11 &lt;chr&gt; |\n",
       "|---|---|---|---|---|---|---|---|---|---|---|---|\n",
       "| 1 | cost   | date  | t1 | t2 | cap  | pr | ne | ct | bw | cum.n | pt |\n",
       "| 2 | 460.05 | 68.58 | 14 | 46 | 687  | 0  | 1  | 0  | 0  | 14    | 0  |\n",
       "| 3 | 452.99 | 67.33 | 10 | 73 | 1065 | 0  | 0  | 1  | 0  | 1     | 0  |\n",
       "| 4 | 443.22 | 67.33 | 10 | 85 | 1065 | 1  | 0  | 1  | 0  | 1     | 0  |\n",
       "| 5 | 652.32 | 68    | 11 | 67 | 1065 | 0  | 1  | 1  | 0  | 12    | 0  |\n",
       "| 6 | 642.23 | 68    | 11 | 78 | 1065 | 1  | 1  | 1  | 0  | 12    | 0  |\n",
       "\n"
      ],
      "text/plain": [
       "  V1     V2    V3 V4 V5   V6 V7 V8 V9 V10   V11\n",
       "1 cost   date  t1 t2 cap  pr ne ct bw cum.n pt \n",
       "2 460.05 68.58 14 46 687  0  1  0  0  14    0  \n",
       "3 452.99 67.33 10 73 1065 0  0  1  0  1     0  \n",
       "4 443.22 67.33 10 85 1065 1  0  1  0  1     0  \n",
       "5 652.32 68    11 67 1065 0  1  1  0  12    0  \n",
       "6 642.23 68    11 78 1065 1  1  1  0  12    0  "
      ]
     },
     "metadata": {},
     "output_type": "display_data"
    }
   ],
   "source": [
    "attach(nuclear.data)\n",
    "head(nuclear.data)"
   ]
  },
  {
   "cell_type": "code",
   "execution_count": 4,
   "metadata": {
    "vscode": {
     "languageId": "r"
    }
   },
   "outputs": [
    {
     "data": {
      "text/html": [
       "<table class=\"dataframe\">\n",
       "<caption>A data.frame: 6 x 11</caption>\n",
       "<thead>\n",
       "\t<tr><th></th><th scope=col>cost</th><th scope=col>date</th><th scope=col>t1</th><th scope=col>t2</th><th scope=col>cap</th><th scope=col>pr</th><th scope=col>ne</th><th scope=col>ct</th><th scope=col>bw</th><th scope=col>cum.n</th><th scope=col>pt</th></tr>\n",
       "\t<tr><th></th><th scope=col>&lt;chr&gt;</th><th scope=col>&lt;chr&gt;</th><th scope=col>&lt;chr&gt;</th><th scope=col>&lt;chr&gt;</th><th scope=col>&lt;chr&gt;</th><th scope=col>&lt;chr&gt;</th><th scope=col>&lt;chr&gt;</th><th scope=col>&lt;chr&gt;</th><th scope=col>&lt;chr&gt;</th><th scope=col>&lt;chr&gt;</th><th scope=col>&lt;chr&gt;</th></tr>\n",
       "</thead>\n",
       "<tbody>\n",
       "\t<tr><th scope=row>2</th><td>460.05</td><td>68.58</td><td>14</td><td>46</td><td>687 </td><td>0</td><td>1</td><td>0</td><td>0</td><td>14</td><td>0</td></tr>\n",
       "\t<tr><th scope=row>3</th><td>452.99</td><td>67.33</td><td>10</td><td>73</td><td>1065</td><td>0</td><td>0</td><td>1</td><td>0</td><td>1 </td><td>0</td></tr>\n",
       "\t<tr><th scope=row>4</th><td>443.22</td><td>67.33</td><td>10</td><td>85</td><td>1065</td><td>1</td><td>0</td><td>1</td><td>0</td><td>1 </td><td>0</td></tr>\n",
       "\t<tr><th scope=row>5</th><td>652.32</td><td>68   </td><td>11</td><td>67</td><td>1065</td><td>0</td><td>1</td><td>1</td><td>0</td><td>12</td><td>0</td></tr>\n",
       "\t<tr><th scope=row>6</th><td>642.23</td><td>68   </td><td>11</td><td>78</td><td>1065</td><td>1</td><td>1</td><td>1</td><td>0</td><td>12</td><td>0</td></tr>\n",
       "\t<tr><th scope=row>7</th><td>345.39</td><td>67.92</td><td>13</td><td>51</td><td>514 </td><td>0</td><td>1</td><td>1</td><td>0</td><td>3 </td><td>0</td></tr>\n",
       "</tbody>\n",
       "</table>\n"
      ],
      "text/latex": [
       "A data.frame: 6 x 11\n",
       "\\begin{tabular}{r|lllllllllll}\n",
       "  & cost & date & t1 & t2 & cap & pr & ne & ct & bw & cum.n & pt\\\\\n",
       "  & <chr> & <chr> & <chr> & <chr> & <chr> & <chr> & <chr> & <chr> & <chr> & <chr> & <chr>\\\\\n",
       "\\hline\n",
       "\t2 & 460.05 & 68.58 & 14 & 46 & 687  & 0 & 1 & 0 & 0 & 14 & 0\\\\\n",
       "\t3 & 452.99 & 67.33 & 10 & 73 & 1065 & 0 & 0 & 1 & 0 & 1  & 0\\\\\n",
       "\t4 & 443.22 & 67.33 & 10 & 85 & 1065 & 1 & 0 & 1 & 0 & 1  & 0\\\\\n",
       "\t5 & 652.32 & 68    & 11 & 67 & 1065 & 0 & 1 & 1 & 0 & 12 & 0\\\\\n",
       "\t6 & 642.23 & 68    & 11 & 78 & 1065 & 1 & 1 & 1 & 0 & 12 & 0\\\\\n",
       "\t7 & 345.39 & 67.92 & 13 & 51 & 514  & 0 & 1 & 1 & 0 & 3  & 0\\\\\n",
       "\\end{tabular}\n"
      ],
      "text/markdown": [
       "\n",
       "A data.frame: 6 x 11\n",
       "\n",
       "| <!--/--> | cost &lt;chr&gt; | date &lt;chr&gt; | t1 &lt;chr&gt; | t2 &lt;chr&gt; | cap &lt;chr&gt; | pr &lt;chr&gt; | ne &lt;chr&gt; | ct &lt;chr&gt; | bw &lt;chr&gt; | cum.n &lt;chr&gt; | pt &lt;chr&gt; |\n",
       "|---|---|---|---|---|---|---|---|---|---|---|---|\n",
       "| 2 | 460.05 | 68.58 | 14 | 46 | 687  | 0 | 1 | 0 | 0 | 14 | 0 |\n",
       "| 3 | 452.99 | 67.33 | 10 | 73 | 1065 | 0 | 0 | 1 | 0 | 1  | 0 |\n",
       "| 4 | 443.22 | 67.33 | 10 | 85 | 1065 | 1 | 0 | 1 | 0 | 1  | 0 |\n",
       "| 5 | 652.32 | 68    | 11 | 67 | 1065 | 0 | 1 | 1 | 0 | 12 | 0 |\n",
       "| 6 | 642.23 | 68    | 11 | 78 | 1065 | 1 | 1 | 1 | 0 | 12 | 0 |\n",
       "| 7 | 345.39 | 67.92 | 13 | 51 | 514  | 0 | 1 | 1 | 0 | 3  | 0 |\n",
       "\n"
      ],
      "text/plain": [
       "  cost   date  t1 t2 cap  pr ne ct bw cum.n pt\n",
       "2 460.05 68.58 14 46 687  0  1  0  0  14    0 \n",
       "3 452.99 67.33 10 73 1065 0  0  1  0  1     0 \n",
       "4 443.22 67.33 10 85 1065 1  0  1  0  1     0 \n",
       "5 652.32 68    11 67 1065 0  1  1  0  12    0 \n",
       "6 642.23 68    11 78 1065 1  1  1  0  12    0 \n",
       "7 345.39 67.92 13 51 514  0  1  1  0  3     0 "
      ]
     },
     "metadata": {},
     "output_type": "display_data"
    }
   ],
   "source": [
    "# Converting first row to column names, and then deleting it\n",
    "colnames(nuclear.data) <- nuclear.data[1, ]\n",
    "nuclear.data <- nuclear.data[-1, ]\n",
    "head(nuclear.data)"
   ]
  },
  {
   "cell_type": "markdown",
   "metadata": {},
   "source": [
    "```"
   ]
  },
  {
   "cell_type": "code",
   "execution_count": 5,
   "metadata": {
    "vscode": {
     "languageId": "r"
    }
   },
   "outputs": [],
   "source": [
    "nuclear.data <- data.frame(apply(nuclear.data, 2, as.numeric))\n",
    "nuclear.fit <- lm(log(cost) ~ . , data = nuclear.data)"
   ]
  },
  {
   "cell_type": "code",
   "execution_count": 6,
   "metadata": {
    "vscode": {
     "languageId": "r"
    }
   },
   "outputs": [
    {
     "data": {
      "text/plain": [
       "\n",
       "Call:\n",
       "lm(formula = log(cost) ~ ., data = nuclear.data)\n",
       "\n",
       "Residuals:\n",
       "      Min        1Q    Median        3Q       Max \n",
       "-0.284032 -0.081677  0.009502  0.090890  0.266548 \n",
       "\n",
       "Coefficients:\n",
       "              Estimate Std. Error t value Pr(>|t|)    \n",
       "(Intercept) -1.063e+01  5.710e+00  -1.862  0.07662 .  \n",
       "date         2.276e-01  8.656e-02   2.629  0.01567 *  \n",
       "t1           5.252e-03  2.230e-02   0.236  0.81610    \n",
       "t2           5.606e-03  4.595e-03   1.220  0.23599    \n",
       "cap          8.837e-04  1.811e-04   4.878 7.99e-05 ***\n",
       "pr          -1.081e-01  8.351e-02  -1.295  0.20943    \n",
       "ne           2.595e-01  7.925e-02   3.274  0.00362 ** \n",
       "ct           1.155e-01  7.027e-02   1.644  0.11503    \n",
       "bw           3.680e-02  1.063e-01   0.346  0.73261    \n",
       "cum.n       -1.203e-02  7.828e-03  -1.536  0.13944    \n",
       "pt          -2.220e-01  1.304e-01  -1.702  0.10352    \n",
       "---\n",
       "Signif. codes:  0 '***' 0.001 '**' 0.01 '*' 0.05 '.' 0.1 ' ' 1\n",
       "\n",
       "Residual standard error: 0.1697 on 21 degrees of freedom\n",
       "Multiple R-squared:  0.8635,\tAdjusted R-squared:  0.7985 \n",
       "F-statistic: 13.28 on 10 and 21 DF,  p-value: 5.717e-07\n"
      ]
     },
     "metadata": {},
     "output_type": "display_data"
    }
   ],
   "source": [
    "summary(nuclear.fit)"
   ]
  },
  {
   "cell_type": "code",
   "execution_count": 7,
   "metadata": {
    "vscode": {
     "languageId": "r"
    }
   },
   "outputs": [
    {
     "data": {
      "text/html": [
       "<table class=\"dataframe\">\n",
       "<caption>A matrix: 3 x 2 of type dbl</caption>\n",
       "<thead>\n",
       "\t<tr><th></th><th scope=col>2.5 %</th><th scope=col>97.5 %</th></tr>\n",
       "</thead>\n",
       "<tbody>\n",
       "\t<tr><th scope=row>t1</th><td>-0.041123331</td><td>0.05162679</td></tr>\n",
       "\t<tr><th scope=row>t2</th><td>-0.003949911</td><td>0.01516185</td></tr>\n",
       "\t<tr><th scope=row>bw</th><td>-0.184211843</td><td>0.25780411</td></tr>\n",
       "</tbody>\n",
       "</table>\n"
      ],
      "text/latex": [
       "A matrix: 3 x 2 of type dbl\n",
       "\\begin{tabular}{r|ll}\n",
       "  & 2.5 \\% & 97.5 \\%\\\\\n",
       "\\hline\n",
       "\tt1 & -0.041123331 & 0.05162679\\\\\n",
       "\tt2 & -0.003949911 & 0.01516185\\\\\n",
       "\tbw & -0.184211843 & 0.25780411\\\\\n",
       "\\end{tabular}\n"
      ],
      "text/markdown": [
       "\n",
       "A matrix: 3 x 2 of type dbl\n",
       "\n",
       "| <!--/--> | 2.5 % | 97.5 % |\n",
       "|---|---|---|\n",
       "| t1 | -0.041123331 | 0.05162679 |\n",
       "| t2 | -0.003949911 | 0.01516185 |\n",
       "| bw | -0.184211843 | 0.25780411 |\n",
       "\n"
      ],
      "text/plain": [
       "   2.5 %        97.5 %    \n",
       "t1 -0.041123331 0.05162679\n",
       "t2 -0.003949911 0.01516185\n",
       "bw -0.184211843 0.25780411"
      ]
     },
     "metadata": {},
     "output_type": "display_data"
    }
   ],
   "source": [
    "# constructing 95% CI for betas corresponding to t1, t2, bw\n",
    "\n",
    "N <- nrow(nuclear.data) # data (rows)\n",
    "p <- length(coef(nuclear.fit)) # covariates (columns)\n",
    "beta_indices <- c(3, 4, 9) #t1, t2, bw\n",
    "X <- model.matrix(nuclear.fit) # design matrix X from nuclear.fit\n",
    "v <- solve(t(X) %*% X) \n",
    "\n",
    "sigma.hat <- sqrt(sum(nuclear.fit$residuals^2) / (N - p - 1)) # std for the residuals\n",
    "beta.hat <- coef(nuclear.fit)[beta_indices]\n",
    "se.beta.hat <- sigma.hat * sqrt(diag(v)[beta_indices])\n",
    "\n",
    "# CI for the betas for t1, t2, bw\n",
    "confint(nuclear.fit, level=0.95)[beta_indices, ]"
   ]
  },
  {
   "cell_type": "markdown",
   "metadata": {
    "vscode": {
     "languageId": "r"
    }
   },
   "source": [
    "That the variables `t1, t2, bw` does not have significant importance, is now both seen in the table summary, as well as with 95% confidence here.\n",
    "\n",
    "**b)** From standard regression theory, we have that a $(1 - \\alpha) \\cdot 100\\%$ prediction interval for $Y$ is given by\n",
    "\n",
    "$$\\hat{y} \\pm t_{1-\\alpha/2; N-p-1} \\hat{\\sigma} \\sqrt {1 + \\mathbf{x}^T(\\mathbf{X}^T\\mathbf{X})^{-1}\\mathbf{x}}$$\n",
    "\n",
    "Since, in our case, $Y = \\log(Z)$, we transform using $Z = \\exp(Y)$. Because the $\\exp$-function is strictly increasing, the probability content of the prediction interval remains unchanged when transforming both bounds:\n",
    "\n",
    "$$\\exp \\left( \\hat{y} \\pm t_{1-\\alpha/2; N-p-1} \\hat{\\sigma} \\sqrt {1 + \\mathbf{x}^T(\\mathbf{X}^T\\mathbf{X})^{-1}\\mathbf{x}}\\right)$$\n",
    "\n",
    "Here we have that $\\exp(L)$ is the transformation of the lower bound and $\\exp(U)$ is the  transformation of the upper bound of this confidence interval. We have now shown that the $(1 - \\alpha) \\cdot 100\\%$ prediction interval for $Z$ is given by $(\\exp(L), \\exp(U))$.\n",
    "\n",
    "**c)**"
   ]
  },
  {
   "cell_type": "code",
   "execution_count": 13,
   "metadata": {
    "vscode": {
     "languageId": "r"
    }
   },
   "outputs": [
    {
     "data": {
      "text/html": [
       "<table class=\"dataframe\">\n",
       "<caption>A matrix: 1 x 3 of type dbl</caption>\n",
       "<thead>\n",
       "\t<tr><th></th><th scope=col>fit</th><th scope=col>lwr</th><th scope=col>upr</th></tr>\n",
       "</thead>\n",
       "<tbody>\n",
       "\t<tr><th scope=row>1</th><td>5.964135</td><td>5.394248</td><td>6.534022</td></tr>\n",
       "</tbody>\n",
       "</table>\n"
      ],
      "text/latex": [
       "A matrix: 1 x 3 of type dbl\n",
       "\\begin{tabular}{r|lll}\n",
       "  & fit & lwr & upr\\\\\n",
       "\\hline\n",
       "\t1 & 5.964135 & 5.394248 & 6.534022\\\\\n",
       "\\end{tabular}\n"
      ],
      "text/markdown": [
       "\n",
       "A matrix: 1 x 3 of type dbl\n",
       "\n",
       "| <!--/--> | fit | lwr | upr |\n",
       "|---|---|---|---|\n",
       "| 1 | 5.964135 | 5.394248 | 6.534022 |\n",
       "\n"
      ],
      "text/plain": [
       "  fit      lwr      upr     \n",
       "1 5.964135 5.394248 6.534022"
      ]
     },
     "metadata": {},
     "output_type": "display_data"
    }
   ],
   "source": [
    "# constructing 95% prediction interval for cost\n",
    "new.x <- data.frame(date = 70.0, t1 = 13, t2 = 50, cap = 800, pr = 1, ne = 0, ct = 0, bw = 1, cum.n = 8, pt = 1)\n",
    "predict(nuclear.fit, new.x, interval=\"predict\")"
   ]
  },
  {
   "cell_type": "code",
   "execution_count": 17,
   "metadata": {
    "vscode": {
     "languageId": "r"
    }
   },
   "outputs": [
    {
     "data": {
      "text/html": [
       "<style>\n",
       ".dl-inline {width: auto; margin:0; padding: 0}\n",
       ".dl-inline>dt, .dl-inline>dd {float: none; width: auto; display: inline-block}\n",
       ".dl-inline>dt::after {content: \":\\0020\"; padding-right: .5ex}\n",
       ".dl-inline>dt:not(:first-of-type) {padding-left: .5ex}\n",
       "</style><dl class=dl-inline><dt>t1</dt><dd>0.816098054138604</dd><dt>t2</dt><dd>0.235986234745923</dd><dt>bw</dt><dd>0.732607533188701</dd></dl>\n"
      ],
      "text/latex": [
       "\\begin{description*}\n",
       "\\item[t1] 0.816098054138604\n",
       "\\item[t2] 0.235986234745923\n",
       "\\item[bw] 0.732607533188701\n",
       "\\end{description*}\n"
      ],
      "text/markdown": [
       "t1\n",
       ":   0.816098054138604t2\n",
       ":   0.235986234745923bw\n",
       ":   0.732607533188701\n",
       "\n"
      ],
      "text/plain": [
       "       t1        t2        bw \n",
       "0.8160981 0.2359862 0.7326075 "
      ]
     },
     "metadata": {},
     "output_type": "display_data"
    }
   ],
   "source": [
    "summary(nuclear.fit)$coefficients[c(\"t1\", \"t2\", \"bw\"), 4]"
   ]
  },
  {
   "cell_type": "code",
   "execution_count": 19,
   "metadata": {
    "vscode": {
     "languageId": "r"
    }
   },
   "outputs": [
    {
     "data": {
      "text/html": [
       "<table class=\"dataframe\">\n",
       "<caption>A anova: 2 x 6</caption>\n",
       "<thead>\n",
       "\t<tr><th></th><th scope=col>Res.Df</th><th scope=col>RSS</th><th scope=col>Df</th><th scope=col>Sum of Sq</th><th scope=col>F</th><th scope=col>Pr(&gt;F)</th></tr>\n",
       "\t<tr><th></th><th scope=col>&lt;dbl&gt;</th><th scope=col>&lt;dbl&gt;</th><th scope=col>&lt;dbl&gt;</th><th scope=col>&lt;dbl&gt;</th><th scope=col>&lt;dbl&gt;</th><th scope=col>&lt;dbl&gt;</th></tr>\n",
       "</thead>\n",
       "<tbody>\n",
       "\t<tr><th scope=row>1</th><td>24</td><td>0.6719537</td><td>NA</td><td>        NA</td><td>       NA</td><td>       NA</td></tr>\n",
       "\t<tr><th scope=row>2</th><td>21</td><td>0.6044333</td><td> 3</td><td>0.06752034</td><td>0.7819595</td><td>0.5172664</td></tr>\n",
       "</tbody>\n",
       "</table>\n"
      ],
      "text/latex": [
       "A anova: 2 x 6\n",
       "\\begin{tabular}{r|llllll}\n",
       "  & Res.Df & RSS & Df & Sum of Sq & F & Pr(>F)\\\\\n",
       "  & <dbl> & <dbl> & <dbl> & <dbl> & <dbl> & <dbl>\\\\\n",
       "\\hline\n",
       "\t1 & 24 & 0.6719537 & NA &         NA &        NA &        NA\\\\\n",
       "\t2 & 21 & 0.6044333 &  3 & 0.06752034 & 0.7819595 & 0.5172664\\\\\n",
       "\\end{tabular}\n"
      ],
      "text/markdown": [
       "\n",
       "A anova: 2 x 6\n",
       "\n",
       "| <!--/--> | Res.Df &lt;dbl&gt; | RSS &lt;dbl&gt; | Df &lt;dbl&gt; | Sum of Sq &lt;dbl&gt; | F &lt;dbl&gt; | Pr(&gt;F) &lt;dbl&gt; |\n",
       "|---|---|---|---|---|---|---|\n",
       "| 1 | 24 | 0.6719537 | NA |         NA |        NA |        NA |\n",
       "| 2 | 21 | 0.6044333 |  3 | 0.06752034 | 0.7819595 | 0.5172664 |\n",
       "\n"
      ],
      "text/plain": [
       "  Res.Df RSS       Df Sum of Sq  F         Pr(>F)   \n",
       "1 24     0.6719537 NA         NA        NA        NA\n",
       "2 21     0.6044333  3 0.06752034 0.7819595 0.5172664"
      ]
     },
     "metadata": {},
     "output_type": "display_data"
    }
   ],
   "source": [
    "full_model <- nuclear.fit\n",
    "reduced_model <- lm(log(cost) ~ . -t1 -t2 -bw, data = nuclear.data)\n",
    "anova(reduced_model, full_model)\n"
   ]
  },
  {
   "cell_type": "code",
   "execution_count": 20,
   "metadata": {
    "vscode": {
     "languageId": "r"
    }
   },
   "outputs": [
    {
     "data": {
      "text/plain": [
       "\n",
       "Call:\n",
       "lm(formula = log(cost) ~ . - t1 - t2 - bw, data = nuclear.data)\n",
       "\n",
       "Residuals:\n",
       "     Min       1Q   Median       3Q      Max \n",
       "-0.35058 -0.07483  0.02033  0.07046  0.30143 \n",
       "\n",
       "Coefficients:\n",
       "              Estimate Std. Error t value Pr(>|t|)    \n",
       "(Intercept) -9.6714744  3.6186616  -2.673 0.013314 *  \n",
       "date         0.2186082  0.0526292   4.154 0.000357 ***\n",
       "cap          0.0009560  0.0001678   5.698 7.18e-06 ***\n",
       "pr          -0.0539837  0.0672228  -0.803 0.429824    \n",
       "ne           0.2425734  0.0770241   3.149 0.004341 ** \n",
       "ct           0.1379866  0.0657723   2.098 0.046619 *  \n",
       "cum.n       -0.0118326  0.0075228  -1.573 0.128832    \n",
       "pt          -0.2226241  0.1216026  -1.831 0.079583 .  \n",
       "---\n",
       "Signif. codes:  0 '***' 0.001 '**' 0.01 '*' 0.05 '.' 0.1 ' ' 1\n",
       "\n",
       "Residual standard error: 0.1673 on 24 degrees of freedom\n",
       "Multiple R-squared:  0.8483,\tAdjusted R-squared:  0.804 \n",
       "F-statistic: 19.17 on 7 and 24 DF,  p-value: 2.151e-08\n"
      ]
     },
     "metadata": {},
     "output_type": "display_data"
    }
   ],
   "source": [
    "reduced_model_final <- lm(log(cost) ~ . - t1 - t2 - bw, data = nuclear.data)\n",
    "summary(reduced_model_final)"
   ]
  },
  {
   "cell_type": "markdown",
   "metadata": {},
   "source": [
    "**d)**"
   ]
  },
  {
   "cell_type": "code",
   "execution_count": 24,
   "metadata": {
    "vscode": {
     "languageId": "r"
    }
   },
   "outputs": [
    {
     "name": "stdout",
     "output_type": "stream",
     "text": [
      "\n",
      "The downloaded binary packages are in\n",
      "\t/var/folders/dp/x5lf9lp142l0p7rp61v608h00000gn/T//Rtmpt44h0m/downloaded_packages\n"
     ]
    }
   ],
   "source": [
    "install.packages(\"leaps\")\n",
    "library(leaps)"
   ]
  },
  {
   "cell_type": "code",
   "execution_count": 30,
   "metadata": {
    "vscode": {
     "languageId": "r"
    }
   },
   "outputs": [
    {
     "data": {
      "text/plain": [
       "Subset selection object\n",
       "Call: regsubsets.formula(log(cost) ~ ., data = nuclear.data, nvmax = ncol(nuclear.data), \n",
       "    method = \"forward\")\n",
       "10 Variables  (and intercept)\n",
       "      Forced in Forced out\n",
       "date      FALSE      FALSE\n",
       "t1        FALSE      FALSE\n",
       "t2        FALSE      FALSE\n",
       "cap       FALSE      FALSE\n",
       "pr        FALSE      FALSE\n",
       "ne        FALSE      FALSE\n",
       "ct        FALSE      FALSE\n",
       "bw        FALSE      FALSE\n",
       "cum.n     FALSE      FALSE\n",
       "pt        FALSE      FALSE\n",
       "1 subsets of each size up to 10\n",
       "Selection Algorithm: forward\n",
       "          date t1  t2  cap pr  ne  ct  bw  cum.n pt \n",
       "1  ( 1 )  \" \"  \" \" \" \" \" \" \" \" \" \" \" \" \" \" \" \"   \"*\"\n",
       "2  ( 1 )  \" \"  \" \" \" \" \"*\" \" \" \" \" \" \" \" \" \" \"   \"*\"\n",
       "3  ( 1 )  \"*\"  \" \" \" \" \"*\" \" \" \" \" \" \" \" \" \" \"   \"*\"\n",
       "4  ( 1 )  \"*\"  \" \" \" \" \"*\" \" \" \"*\" \" \" \" \" \" \"   \"*\"\n",
       "5  ( 1 )  \"*\"  \" \" \" \" \"*\" \" \" \"*\" \"*\" \" \" \" \"   \"*\"\n",
       "6  ( 1 )  \"*\"  \" \" \" \" \"*\" \" \" \"*\" \"*\" \" \" \"*\"   \"*\"\n",
       "7  ( 1 )  \"*\"  \" \" \" \" \"*\" \" \" \"*\" \"*\" \"*\" \"*\"   \"*\"\n",
       "8  ( 1 )  \"*\"  \" \" \" \" \"*\" \"*\" \"*\" \"*\" \"*\" \"*\"   \"*\"\n",
       "9  ( 1 )  \"*\"  \" \" \"*\" \"*\" \"*\" \"*\" \"*\" \"*\" \"*\"   \"*\"\n",
       "10  ( 1 ) \"*\"  \"*\" \"*\" \"*\" \"*\" \"*\" \"*\" \"*\" \"*\"   \"*\""
      ]
     },
     "metadata": {},
     "output_type": "display_data"
    }
   ],
   "source": [
    "nuclear.fwd <- regsubsets(log(cost) ~ ., data=nuclear.data, nvmax=ncol(nuclear.data), method=\"forward\")\n",
    "summary(nuclear.fwd)"
   ]
  },
  {
   "cell_type": "markdown",
   "metadata": {},
   "source": []
  },
  {
   "cell_type": "code",
   "execution_count": 31,
   "metadata": {
    "vscode": {
     "languageId": "r"
    }
   },
   "outputs": [],
   "source": [
    "calc_aic_bic <- function(model, data) {\n",
    "    n <- nrow(data) # number of observations\n",
    "    p <- apply(summary(model)$which, 1, sum) - 1 # chosen predictors without intercept\n",
    "    rss <- summary(model)$rss\n",
    "\n",
    "    aic <- n * log(rss / n) + 2 * p\n",
    "    bic <- n * log(rss / n) + log(n) * p\n",
    "\n",
    "    return(data.frame(Num_Variables = p, AIC = aic, BIC = bic))\n",
    "}"
   ]
  },
  {
   "cell_type": "code",
   "execution_count": 32,
   "metadata": {
    "vscode": {
     "languageId": "r"
    }
   },
   "outputs": [
    {
     "name": "stdout",
     "output_type": "stream",
     "text": [
      "   Num_Variables        AIC        BIC\n",
      "1              1  -80.68464  -79.21891\n",
      "2              2  -93.36132  -90.42985\n",
      "3              3 -102.75071  -98.35350\n",
      "4              4 -108.35968 -102.49674\n",
      "5              5 -110.10645 -102.77777\n",
      "6              6 -110.77714 -101.98272\n",
      "7              7 -110.03915  -99.77900\n",
      "8              8 -108.81777  -97.09188\n",
      "9              9 -108.92999  -95.73837\n",
      "10            10 -107.01439  -92.35703\n"
     ]
    }
   ],
   "source": [
    "aic_bic_fwd <- calc_aic_bic(nuclear.fwd, nuclear.data)\n",
    "print(aic_bic_fwd)"
   ]
  },
  {
   "cell_type": "code",
   "execution_count": null,
   "metadata": {
    "vscode": {
     "languageId": "r"
    }
   },
   "outputs": [],
   "source": []
  }
 ],
 "metadata": {
  "kernelspec": {
   "display_name": "R",
   "language": "R",
   "name": "ir"
  },
  "language_info": {
   "codemirror_mode": "r",
   "file_extension": ".r",
   "mimetype": "text/x-r-source",
   "name": "R",
   "pygments_lexer": "r",
   "version": "4.4.2"
  }
 },
 "nbformat": 4,
 "nbformat_minor": 2
}
