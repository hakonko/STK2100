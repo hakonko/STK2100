{
 "cells": [
  {
   "cell_type": "markdown",
   "metadata": {},
   "source": [
    "\\begin{center}\n",
    "\\normalsize STK2100 - Håkon Ganes Kornstad\n",
    "\\end{center}"
   ]
  },
  {
   "cell_type": "markdown",
   "metadata": {},
   "source": [
    "\\setcounter{secnumdepth}{0}"
   ]
  },
  {
   "cell_type": "markdown",
   "metadata": {},
   "source": [
    "### Problem 1\n",
    "\n",
    "a) Given the regression models for the response $Y$ and single covariate $x$, we can write the following as linear regression models\\\n",
    "As is (i):\n",
    "\n",
    "$$\\text{2.} \\quad Y = \\beta_0 + \\beta_1 \\frac{1}{x} + \\beta_2 x^2 + \\varepsilon$$\n",
    "\n",
    "If a parameter is kept fixed (ii):\n",
    "\\begin{align*}\\text{1.} \\quad Y &= \\frac{\\beta_0}{1 + \\beta_1 x} + \\beta_2 x^{1/2} + \\varepsilon\\\\\n",
    "& \\Downarrow \\quad Z = \\frac{1}{1 + \\beta_1 x} \\quad | \\ \\beta_1 \\text{ fixed}\\\\\n",
    "Y &= \\beta_0 Z + \\beta_2 x^{1/2} + \\varepsilon \\end{align*}\n",
    "\n",
    "$$\\text{4.} \\quad Y = \\beta_0 + \\beta_1 x^{\\beta_2} + \\varepsilon \\quad | \\ \\beta_2 \\text{ fixed}$$\n",
    "\n",
    "After a suitable transformation (iii):\n",
    "\\begin{align*}\\text{3.} \\quad Y &= \\frac{1}{\\beta_0 + \\beta_1 x + \\beta_2 x^2 + \\varepsilon} \\\\\n",
    "&\\Downarrow \\ Z = (Y^{-1})\\\\\n",
    "Z &= \\beta_0 + \\beta_1 x + \\beta_2 x^2 + \\varepsilon \\end{align*}\n",
    "\n",
    "\\begin{align*}\\text{5.} \\quad Y &= \\beta_0 x^{\\beta_1} \\varepsilon\\\\\n",
    "&\\Downarrow \\ Z = (\\ln{Y}) \\text{ and } \\beta_0 \\text{ fixed}\\\\\n",
    "Z &= \\ln(\\beta_0) + \\beta_1 \\ln(x) + \\ln(\\varepsilon) \\end{align*}\n",
    "\n",
    "Note: For 5. we are assuming here also that $\\ln(\\varepsilon)$ is from the same distribution as $\\varepsilon$.\n",
    "\n",
    "b) For the models that can be used, their dimensions will be\n",
    "* For 1. (after transformation) $\\quad \\mathbf{X}: \\ (N \\times 2)$ matric (without intercept), $\\quad \\beta: \\ (2 \\times 1)$ vector\n",
    "* For 2. $\\quad \\mathbf{X}: \\ (N \\times 3)$ matrix (with intercept), $\\quad \\beta: \\ (3 \\times 1)$ vector\n",
    "* For 4. $\\quad \\mathbf{X}: \\ (N \\times 2)$ matrix (with intercept), $\\quad \\beta: \\ (2 \\times 1)$ vector\n",
    "* For 3. (after transformation) $\\quad \\mathbf{X}: \\ (N \\times 3)$ matrix (with intercept), $\\quad \\beta: \\ (3 \\times 1)$ vector\n",
    "* For 5. (after transformation) $\\quad \\mathbf{X}: \\ (N \\times 2)$ matrix (with intercept), $\\quad \\beta: \\ (2 \\times 1)$ vector"
   ]
  },
  {
   "cell_type": "markdown",
   "metadata": {},
   "source": [
    "### Problem 2\n",
    "\n",
    "a) Fit a linear regression model with $y=\\log($ `cost` $)$ as the response, including all 10 covariates. "
   ]
  },
  {
   "cell_type": "code",
   "execution_count": 1,
   "metadata": {},
   "outputs": [],
   "source": [
    "options(warn = -1) # suppressing warnings"
   ]
  },
  {
   "cell_type": "code",
   "execution_count": 2,
   "metadata": {
    "vscode": {
     "languageId": "r"
    }
   },
   "outputs": [],
   "source": [
    "nuclear.data <- read.table(\"https://www.uio.no/studier/emner/matnat/math/STK2100/data/nuclear.dat\", sep = \"\\t\", header = FALSE)"
   ]
  },
  {
   "cell_type": "code",
   "execution_count": 3,
   "metadata": {
    "vscode": {
     "languageId": "r"
    }
   },
   "outputs": [
    {
     "data": {
      "text/html": [
       "<table class=\"dataframe\">\n",
       "<caption>A data.frame: 6 × 11</caption>\n",
       "<thead>\n",
       "\t<tr><th></th><th scope=col>cost</th><th scope=col>date</th><th scope=col>t1</th><th scope=col>t2</th><th scope=col>cap</th><th scope=col>pr</th><th scope=col>ne</th><th scope=col>ct</th><th scope=col>bw</th><th scope=col>cum.n</th><th scope=col>pt</th></tr>\n",
       "\t<tr><th></th><th scope=col>&lt;chr&gt;</th><th scope=col>&lt;chr&gt;</th><th scope=col>&lt;chr&gt;</th><th scope=col>&lt;chr&gt;</th><th scope=col>&lt;chr&gt;</th><th scope=col>&lt;chr&gt;</th><th scope=col>&lt;chr&gt;</th><th scope=col>&lt;chr&gt;</th><th scope=col>&lt;chr&gt;</th><th scope=col>&lt;chr&gt;</th><th scope=col>&lt;chr&gt;</th></tr>\n",
       "</thead>\n",
       "<tbody>\n",
       "\t<tr><th scope=row>2</th><td>460.05</td><td>68.58</td><td>14</td><td>46</td><td>687 </td><td>0</td><td>1</td><td>0</td><td>0</td><td>14</td><td>0</td></tr>\n",
       "\t<tr><th scope=row>3</th><td>452.99</td><td>67.33</td><td>10</td><td>73</td><td>1065</td><td>0</td><td>0</td><td>1</td><td>0</td><td>1 </td><td>0</td></tr>\n",
       "\t<tr><th scope=row>4</th><td>443.22</td><td>67.33</td><td>10</td><td>85</td><td>1065</td><td>1</td><td>0</td><td>1</td><td>0</td><td>1 </td><td>0</td></tr>\n",
       "\t<tr><th scope=row>5</th><td>652.32</td><td>68   </td><td>11</td><td>67</td><td>1065</td><td>0</td><td>1</td><td>1</td><td>0</td><td>12</td><td>0</td></tr>\n",
       "\t<tr><th scope=row>6</th><td>642.23</td><td>68   </td><td>11</td><td>78</td><td>1065</td><td>1</td><td>1</td><td>1</td><td>0</td><td>12</td><td>0</td></tr>\n",
       "\t<tr><th scope=row>7</th><td>345.39</td><td>67.92</td><td>13</td><td>51</td><td>514 </td><td>0</td><td>1</td><td>1</td><td>0</td><td>3 </td><td>0</td></tr>\n",
       "</tbody>\n",
       "</table>\n"
      ],
      "text/latex": [
       "A data.frame: 6 × 11\n",
       "\\begin{tabular}{r|lllllllllll}\n",
       "  & cost & date & t1 & t2 & cap & pr & ne & ct & bw & cum.n & pt\\\\\n",
       "  & <chr> & <chr> & <chr> & <chr> & <chr> & <chr> & <chr> & <chr> & <chr> & <chr> & <chr>\\\\\n",
       "\\hline\n",
       "\t2 & 460.05 & 68.58 & 14 & 46 & 687  & 0 & 1 & 0 & 0 & 14 & 0\\\\\n",
       "\t3 & 452.99 & 67.33 & 10 & 73 & 1065 & 0 & 0 & 1 & 0 & 1  & 0\\\\\n",
       "\t4 & 443.22 & 67.33 & 10 & 85 & 1065 & 1 & 0 & 1 & 0 & 1  & 0\\\\\n",
       "\t5 & 652.32 & 68    & 11 & 67 & 1065 & 0 & 1 & 1 & 0 & 12 & 0\\\\\n",
       "\t6 & 642.23 & 68    & 11 & 78 & 1065 & 1 & 1 & 1 & 0 & 12 & 0\\\\\n",
       "\t7 & 345.39 & 67.92 & 13 & 51 & 514  & 0 & 1 & 1 & 0 & 3  & 0\\\\\n",
       "\\end{tabular}\n"
      ],
      "text/markdown": [
       "\n",
       "A data.frame: 6 × 11\n",
       "\n",
       "| <!--/--> | cost &lt;chr&gt; | date &lt;chr&gt; | t1 &lt;chr&gt; | t2 &lt;chr&gt; | cap &lt;chr&gt; | pr &lt;chr&gt; | ne &lt;chr&gt; | ct &lt;chr&gt; | bw &lt;chr&gt; | cum.n &lt;chr&gt; | pt &lt;chr&gt; |\n",
       "|---|---|---|---|---|---|---|---|---|---|---|---|\n",
       "| 2 | 460.05 | 68.58 | 14 | 46 | 687  | 0 | 1 | 0 | 0 | 14 | 0 |\n",
       "| 3 | 452.99 | 67.33 | 10 | 73 | 1065 | 0 | 0 | 1 | 0 | 1  | 0 |\n",
       "| 4 | 443.22 | 67.33 | 10 | 85 | 1065 | 1 | 0 | 1 | 0 | 1  | 0 |\n",
       "| 5 | 652.32 | 68    | 11 | 67 | 1065 | 0 | 1 | 1 | 0 | 12 | 0 |\n",
       "| 6 | 642.23 | 68    | 11 | 78 | 1065 | 1 | 1 | 1 | 0 | 12 | 0 |\n",
       "| 7 | 345.39 | 67.92 | 13 | 51 | 514  | 0 | 1 | 1 | 0 | 3  | 0 |\n",
       "\n"
      ],
      "text/plain": [
       "  cost   date  t1 t2 cap  pr ne ct bw cum.n pt\n",
       "2 460.05 68.58 14 46 687  0  1  0  0  14    0 \n",
       "3 452.99 67.33 10 73 1065 0  0  1  0  1     0 \n",
       "4 443.22 67.33 10 85 1065 1  0  1  0  1     0 \n",
       "5 652.32 68    11 67 1065 0  1  1  0  12    0 \n",
       "6 642.23 68    11 78 1065 1  1  1  0  12    0 \n",
       "7 345.39 67.92 13 51 514  0  1  1  0  3     0 "
      ]
     },
     "metadata": {},
     "output_type": "display_data"
    }
   ],
   "source": [
    "# Converting first row to column names, and then deleting it\n",
    "colnames(nuclear.data) <- nuclear.data[1, ]\n",
    "nuclear.data <- nuclear.data[-1, ]\n",
    "head(nuclear.data) # Taking a look at the data\n",
    "\n",
    "# Setting a seed for reproducibility\n",
    "set.seed(1977)"
   ]
  },
  {
   "cell_type": "code",
   "execution_count": 4,
   "metadata": {
    "vscode": {
     "languageId": "r"
    }
   },
   "outputs": [
    {
     "data": {
      "text/plain": [
       "\n",
       "Call:\n",
       "lm(formula = log(cost) ~ ., data = nuclear.data)\n",
       "\n",
       "Residuals:\n",
       "      Min        1Q    Median        3Q       Max \n",
       "-0.284032 -0.081677  0.009502  0.090890  0.266548 \n",
       "\n",
       "Coefficients:\n",
       "              Estimate Std. Error t value Pr(>|t|)    \n",
       "(Intercept) -1.063e+01  5.710e+00  -1.862  0.07662 .  \n",
       "date         2.276e-01  8.656e-02   2.629  0.01567 *  \n",
       "t1           5.252e-03  2.230e-02   0.236  0.81610    \n",
       "t2           5.606e-03  4.595e-03   1.220  0.23599    \n",
       "cap          8.837e-04  1.811e-04   4.878 7.99e-05 ***\n",
       "pr          -1.081e-01  8.351e-02  -1.295  0.20943    \n",
       "ne           2.595e-01  7.925e-02   3.274  0.00362 ** \n",
       "ct           1.155e-01  7.027e-02   1.644  0.11503    \n",
       "bw           3.680e-02  1.063e-01   0.346  0.73261    \n",
       "cum.n       -1.203e-02  7.828e-03  -1.536  0.13944    \n",
       "pt          -2.220e-01  1.304e-01  -1.702  0.10352    \n",
       "---\n",
       "Signif. codes:  0 ‘***’ 0.001 ‘**’ 0.01 ‘*’ 0.05 ‘.’ 0.1 ‘ ’ 1\n",
       "\n",
       "Residual standard error: 0.1697 on 21 degrees of freedom\n",
       "Multiple R-squared:  0.8635,\tAdjusted R-squared:  0.7985 \n",
       "F-statistic: 13.28 on 10 and 21 DF,  p-value: 5.717e-07\n"
      ]
     },
     "metadata": {},
     "output_type": "display_data"
    }
   ],
   "source": [
    "nuclear.data <- data.frame(apply(nuclear.data, 2, as.numeric)) # converting the chr's to numbers\n",
    "nuclear.fit <- lm(log(cost) ~ . , data = nuclear.data) # fitting the model\n",
    "summary(nuclear.fit) # taking a look at the summary"
   ]
  },
  {
   "cell_type": "markdown",
   "metadata": {},
   "source": [
    "To find the confidence interval for the coefficients $\\beta_j$, we need to compute\n",
    "\n",
    "$$ \\frac{\\beta - \\hat{\\beta}}{\\hat{\\sigma}\\sqrt{\\mathbf{x}^T (\\mathbf{X} ^T \\mathbf{X})^{-1} \\mathbf{x}}} \\sim t_{N - p - 1} \\quad \\rightarrow \\quad \\beta_j \\ \\pm \\ t_{1 - \\alpha/2; N-p-1} \\hat{\\sigma}\\sqrt{v_j} $$"
   ]
  },
  {
   "cell_type": "code",
   "execution_count": 5,
   "metadata": {
    "vscode": {
     "languageId": "r"
    }
   },
   "outputs": [
    {
     "data": {
      "text/html": [
       "<table class=\"dataframe\">\n",
       "<caption>A matrix: 3 × 2 of type dbl</caption>\n",
       "<tbody>\n",
       "\t<tr><th scope=row>t1</th><td>-0.042413659</td><td>0.05291712</td></tr>\n",
       "\t<tr><th scope=row>t2</th><td>-0.004215791</td><td>0.01542773</td></tr>\n",
       "\t<tr><th scope=row>bw</th><td>-0.190361111</td><td>0.26395337</td></tr>\n",
       "</tbody>\n",
       "</table>\n"
      ],
      "text/latex": [
       "A matrix: 3 × 2 of type dbl\n",
       "\\begin{tabular}{r|ll}\n",
       "\tt1 & -0.042413659 & 0.05291712\\\\\n",
       "\tt2 & -0.004215791 & 0.01542773\\\\\n",
       "\tbw & -0.190361111 & 0.26395337\\\\\n",
       "\\end{tabular}\n"
      ],
      "text/markdown": [
       "\n",
       "A matrix: 3 × 2 of type dbl\n",
       "\n",
       "| t1 | -0.042413659 | 0.05291712 |\n",
       "| t2 | -0.004215791 | 0.01542773 |\n",
       "| bw | -0.190361111 | 0.26395337 |\n",
       "\n"
      ],
      "text/plain": [
       "   [,1]         [,2]      \n",
       "t1 -0.042413659 0.05291712\n",
       "t2 -0.004215791 0.01542773\n",
       "bw -0.190361111 0.26395337"
      ]
     },
     "metadata": {},
     "output_type": "display_data"
    },
    {
     "data": {
      "text/html": [
       "<table class=\"dataframe\">\n",
       "<caption>A matrix: 3 × 2 of type dbl</caption>\n",
       "<thead>\n",
       "\t<tr><th></th><th scope=col>2.5 %</th><th scope=col>97.5 %</th></tr>\n",
       "</thead>\n",
       "<tbody>\n",
       "\t<tr><th scope=row>t1</th><td>-0.041123331</td><td>0.05162679</td></tr>\n",
       "\t<tr><th scope=row>t2</th><td>-0.003949911</td><td>0.01516185</td></tr>\n",
       "\t<tr><th scope=row>bw</th><td>-0.184211843</td><td>0.25780411</td></tr>\n",
       "</tbody>\n",
       "</table>\n"
      ],
      "text/latex": [
       "A matrix: 3 × 2 of type dbl\n",
       "\\begin{tabular}{r|ll}\n",
       "  & 2.5 \\% & 97.5 \\%\\\\\n",
       "\\hline\n",
       "\tt1 & -0.041123331 & 0.05162679\\\\\n",
       "\tt2 & -0.003949911 & 0.01516185\\\\\n",
       "\tbw & -0.184211843 & 0.25780411\\\\\n",
       "\\end{tabular}\n"
      ],
      "text/markdown": [
       "\n",
       "A matrix: 3 × 2 of type dbl\n",
       "\n",
       "| <!--/--> | 2.5 % | 97.5 % |\n",
       "|---|---|---|\n",
       "| t1 | -0.041123331 | 0.05162679 |\n",
       "| t2 | -0.003949911 | 0.01516185 |\n",
       "| bw | -0.184211843 | 0.25780411 |\n",
       "\n"
      ],
      "text/plain": [
       "   2.5 %        97.5 %    \n",
       "t1 -0.041123331 0.05162679\n",
       "t2 -0.003949911 0.01516185\n",
       "bw -0.184211843 0.25780411"
      ]
     },
     "metadata": {},
     "output_type": "display_data"
    }
   ],
   "source": [
    "# setting up the confidence interval manually\n",
    "N <- nrow(nuclear.data)\n",
    "p <- length(coef(nuclear.fit))\n",
    "alpha <- 0.05 #95% CI\n",
    "\n",
    "beta.hats <- coef(nuclear.fit)[c(\"t1\", \"t2\", \"bw\")]\n",
    "\n",
    "sigma.hat <- sqrt(sum(nuclear.fit$residuals ^ 2)/ (N - p - 1))\n",
    "\n",
    "X <- model.matrix(nuclear.fit)\n",
    "v <- solve(t(X)%*%X)\n",
    "\n",
    "se.beta.hats <- sigma.hat * sqrt(diag(v)[c(\"t1\", \"t2\", \"bw\")])\n",
    "\n",
    "t.value <- qt(1 - alpha/2, df = N - p - 1) #t-value from the t-distribution (using qt) here\n",
    "\n",
    "conf.ints <- cbind(\n",
    "    beta.hats - t.value * se.beta.hats, # lower bound\n",
    "    beta.hats + t.value * se.beta.hats # upper bound\n",
    "    )\n",
    "conf.ints\n",
    "\n",
    "# checking against the confint()-function\n",
    "confint(nuclear.fit, level=0.95)[c(\"t1\", \"t2\", \"bw\"), ] # constructing confidence intervals for the given parameters"
   ]
  },
  {
   "cell_type": "markdown",
   "metadata": {
    "vscode": {
     "languageId": "r"
    }
   },
   "source": [
    "**Note:** We observe that our manually constructed confidence intevals deviate slightly from the ones created by R's `confint()` function. This might be because of the discrepancy between `solve(t(X)%*%X)` and the internal variance computations in R. However, the deviations are acceptable, especially since zero is included in all intervals, which is perhaps the most important information for further analysis.\n",
    "\n",
    "**b)** From the theory, we have that a $(1 - \\alpha) \\cdot 100\\%$ prediction interval for $Y$ is given by\n",
    "\n",
    "$$\\hat{y} \\pm t_{1-\\alpha/2; N-p-1} \\hat{\\sigma} \\sqrt {1 + \\mathbf{x}^T(\\mathbf{X}^T\\mathbf{X})^{-1}\\mathbf{x}}$$\n",
    "\n",
    "In our case, we have that $Y = \\log(Z)$, and transform using $Z = \\exp(Y)$. Furthermore, since the $\\exp$-function is monotonous, the probability content of the prediction interval remains unchanged when transforming both bounds. This follows from the property that monotone transformations of an interval preserve the probability:\n",
    "\n",
    "$$P(L < Y < U) = P(\\exp{L} < Z < \\exp{U})$$\n",
    "\n",
    "We then end up with:\n",
    "\n",
    "$$\\exp \\left( \\hat{y} \\pm t_{1-\\alpha/2; N-p-1} \\hat{\\sigma} \\sqrt {1 + \\mathbf{x}^T(\\mathbf{X}^T\\mathbf{X})^{-1}\\mathbf{x}}\\right) = (\\exp(L), \\exp(U)), $$\n",
    "\n",
    "where $\\exp(L)$ is the transformation of the lower bound and $\\exp(U)$ is the  transformation of the upper bound of this prediction interval. We have now shown that the $(1 - \\alpha) \\cdot 100\\%$ prediction interval for $Z$ is given by $(\\exp(L), \\exp(U))$.\n",
    "\n"
   ]
  },
  {
   "cell_type": "code",
   "execution_count": 6,
   "metadata": {
    "vscode": {
     "languageId": "r"
    }
   },
   "outputs": [
    {
     "data": {
      "text/html": [
       "<table class=\"dataframe\">\n",
       "<caption>A matrix: 1 × 3 of type dbl</caption>\n",
       "<thead>\n",
       "\t<tr><th></th><th scope=col>fit</th><th scope=col>lwr</th><th scope=col>upr</th></tr>\n",
       "</thead>\n",
       "<tbody>\n",
       "\t<tr><th scope=row>1</th><td>389.2163</td><td>220.1366</td><td>688.1607</td></tr>\n",
       "</tbody>\n",
       "</table>\n"
      ],
      "text/latex": [
       "A matrix: 1 × 3 of type dbl\n",
       "\\begin{tabular}{r|lll}\n",
       "  & fit & lwr & upr\\\\\n",
       "\\hline\n",
       "\t1 & 389.2163 & 220.1366 & 688.1607\\\\\n",
       "\\end{tabular}\n"
      ],
      "text/markdown": [
       "\n",
       "A matrix: 1 × 3 of type dbl\n",
       "\n",
       "| <!--/--> | fit | lwr | upr |\n",
       "|---|---|---|---|\n",
       "| 1 | 389.2163 | 220.1366 | 688.1607 |\n",
       "\n"
      ],
      "text/plain": [
       "  fit      lwr      upr     \n",
       "1 389.2163 220.1366 688.1607"
      ]
     },
     "metadata": {},
     "output_type": "display_data"
    }
   ],
   "source": [
    "# creating a data frame from the given x covariate vector\n",
    "new.x <- data.frame(date = 70.0, t1 = 13, t2 = 50, cap = 800, pr = 1, ne = 0, ct = 0, bw = 1, cum.n = 8, pt = 1)\n",
    "\n",
    "pred.y <- predict(nuclear.fit, new.x, interval=\"predict\")\n",
    "\n",
    "# getting the cost z=(exp(y)) by transforming y\n",
    "pred.z <- exp(pred.y)\n",
    "pred.z"
   ]
  },
  {
   "cell_type": "markdown",
   "metadata": {},
   "source": [
    "**c) Individual hypothesis tests for `t1`, `t2`, `bw`** "
   ]
  },
  {
   "cell_type": "code",
   "execution_count": 7,
   "metadata": {
    "vscode": {
     "languageId": "r"
    }
   },
   "outputs": [
    {
     "name": "stdout",
     "output_type": "stream",
     "text": [
      "      Estimate  Std_Error   t_value   p_value\n",
      "t1 0.005251730 0.02285054 0.2298296 0.8205584\n",
      "t2 0.005605968 0.00470850 1.1906059 0.2477485\n",
      "bw 0.036796131 0.10889800 0.3378954 0.7389630\n"
     ]
    },
    {
     "data": {
      "text/html": [
       "<table class=\"dataframe\">\n",
       "<caption>A matrix: 3 × 4 of type dbl</caption>\n",
       "<thead>\n",
       "\t<tr><th></th><th scope=col>Estimate</th><th scope=col>Std. Error</th><th scope=col>t value</th><th scope=col>Pr(&gt;|t|)</th></tr>\n",
       "</thead>\n",
       "<tbody>\n",
       "\t<tr><th scope=row>t1</th><td>0.005251730</td><td>0.022299843</td><td>0.2355053</td><td>0.8160981</td></tr>\n",
       "\t<tr><th scope=row>t2</th><td>0.005605968</td><td>0.004595026</td><td>1.2200080</td><td>0.2359862</td></tr>\n",
       "\t<tr><th scope=row>bw</th><td>0.036796131</td><td>0.106273564</td><td>0.3462397</td><td>0.7326075</td></tr>\n",
       "</tbody>\n",
       "</table>\n"
      ],
      "text/latex": [
       "A matrix: 3 × 4 of type dbl\n",
       "\\begin{tabular}{r|llll}\n",
       "  & Estimate & Std. Error & t value & Pr(>\\textbar{}t\\textbar{})\\\\\n",
       "\\hline\n",
       "\tt1 & 0.005251730 & 0.022299843 & 0.2355053 & 0.8160981\\\\\n",
       "\tt2 & 0.005605968 & 0.004595026 & 1.2200080 & 0.2359862\\\\\n",
       "\tbw & 0.036796131 & 0.106273564 & 0.3462397 & 0.7326075\\\\\n",
       "\\end{tabular}\n"
      ],
      "text/markdown": [
       "\n",
       "A matrix: 3 × 4 of type dbl\n",
       "\n",
       "| <!--/--> | Estimate | Std. Error | t value | Pr(&gt;|t|) |\n",
       "|---|---|---|---|---|\n",
       "| t1 | 0.005251730 | 0.022299843 | 0.2355053 | 0.8160981 |\n",
       "| t2 | 0.005605968 | 0.004595026 | 1.2200080 | 0.2359862 |\n",
       "| bw | 0.036796131 | 0.106273564 | 0.3462397 | 0.7326075 |\n",
       "\n"
      ],
      "text/plain": [
       "   Estimate    Std. Error  t value   Pr(>|t|) \n",
       "t1 0.005251730 0.022299843 0.2355053 0.8160981\n",
       "t2 0.005605968 0.004595026 1.2200080 0.2359862\n",
       "bw 0.036796131 0.106273564 0.3462397 0.7326075"
      ]
     },
     "metadata": {},
     "output_type": "display_data"
    }
   ],
   "source": [
    "t_values <- beta.hats / se.beta.hats\n",
    "p_values <- 2 * pt(-abs(t_values), (N - p - 1))\n",
    "\n",
    "# printing in table form\n",
    "results <- data.frame(\n",
    "  Estimate = beta.hats,\n",
    "  Std_Error = se.beta.hats,\n",
    "  t_value = t_values,\n",
    "  p_value = p_values\n",
    ")\n",
    "print(results)\n",
    "\n",
    "# comparing with R's summary function\n",
    "summary(nuclear.fit)$coefficients[c(\"t1\", \"t2\", \"bw\"), ]"
   ]
  },
  {
   "cell_type": "markdown",
   "metadata": {},
   "source": [
    "* `t1`: $p(>|t|) = 0.820 \\gg 0.05 \\ \\longrightarrow$ `t1` is not significant ($H_0$ can not be discarded)\n",
    "* `t2`: $p(>|t|) = 0.247 \\gg 0.05 \\ \\longrightarrow$ `t2` is not significant\n",
    "* `bw`: $p(>|t|) = 0.738 \\gg 0.05 \\ \\longrightarrow$ `bw` is not significant\n",
    "\n",
    "Again, we see a slight deviation from our computed results and R's \"native\" results. And again, this is due to how we computed the variance. \n",
    "We then find a **joint test** by computing the F-statistic and $p(>|F|)$ between the reduced set and the original set, by using the formula\n",
    "\n",
    "$$F = \\frac{(RSS_0 - RSS)/q}{RSS/(N-p-1)},$$\n",
    "\n",
    "where $RSS_0$ is the residual sum of squares from the reduced model, $RSS$ is from the full model, $q$ is the amount of removed covariates, $N$ is the total observations (rows), and $p$ are the number of covariates in the full model (excluding intercept). Furthermore, we subtract $1$, which is the df belonging to the intercept. In R we may obtain the same values with the `anova()` function."
   ]
  },
  {
   "cell_type": "code",
   "execution_count": 8,
   "metadata": {
    "vscode": {
     "languageId": "r"
    }
   },
   "outputs": [
    {
     "name": "stdout",
     "output_type": "stream",
     "text": [
      "[1] \"F-stat: 0.781959483788322\"\n",
      "[1] \"p-value: 0.517266415865109\"\n"
     ]
    },
    {
     "data": {
      "text/html": [
       "<table class=\"dataframe\">\n",
       "<caption>A anova: 2 × 6</caption>\n",
       "<thead>\n",
       "\t<tr><th></th><th scope=col>Res.Df</th><th scope=col>RSS</th><th scope=col>Df</th><th scope=col>Sum of Sq</th><th scope=col>F</th><th scope=col>Pr(&gt;F)</th></tr>\n",
       "\t<tr><th></th><th scope=col>&lt;dbl&gt;</th><th scope=col>&lt;dbl&gt;</th><th scope=col>&lt;dbl&gt;</th><th scope=col>&lt;dbl&gt;</th><th scope=col>&lt;dbl&gt;</th><th scope=col>&lt;dbl&gt;</th></tr>\n",
       "</thead>\n",
       "<tbody>\n",
       "\t<tr><th scope=row>1</th><td>24</td><td>0.6719537</td><td>NA</td><td>        NA</td><td>       NA</td><td>       NA</td></tr>\n",
       "\t<tr><th scope=row>2</th><td>21</td><td>0.6044333</td><td> 3</td><td>0.06752034</td><td>0.7819595</td><td>0.5172664</td></tr>\n",
       "</tbody>\n",
       "</table>\n"
      ],
      "text/latex": [
       "A anova: 2 × 6\n",
       "\\begin{tabular}{r|llllll}\n",
       "  & Res.Df & RSS & Df & Sum of Sq & F & Pr(>F)\\\\\n",
       "  & <dbl> & <dbl> & <dbl> & <dbl> & <dbl> & <dbl>\\\\\n",
       "\\hline\n",
       "\t1 & 24 & 0.6719537 & NA &         NA &        NA &        NA\\\\\n",
       "\t2 & 21 & 0.6044333 &  3 & 0.06752034 & 0.7819595 & 0.5172664\\\\\n",
       "\\end{tabular}\n"
      ],
      "text/markdown": [
       "\n",
       "A anova: 2 × 6\n",
       "\n",
       "| <!--/--> | Res.Df &lt;dbl&gt; | RSS &lt;dbl&gt; | Df &lt;dbl&gt; | Sum of Sq &lt;dbl&gt; | F &lt;dbl&gt; | Pr(&gt;F) &lt;dbl&gt; |\n",
       "|---|---|---|---|---|---|---|\n",
       "| 1 | 24 | 0.6719537 | NA |         NA |        NA |        NA |\n",
       "| 2 | 21 | 0.6044333 |  3 | 0.06752034 | 0.7819595 | 0.5172664 |\n",
       "\n"
      ],
      "text/plain": [
       "  Res.Df RSS       Df Sum of Sq  F         Pr(>F)   \n",
       "1 24     0.6719537 NA         NA        NA        NA\n",
       "2 21     0.6044333  3 0.06752034 0.7819595 0.5172664"
      ]
     },
     "metadata": {},
     "output_type": "display_data"
    }
   ],
   "source": [
    "# the full model with its rss\n",
    "full_model <- nuclear.fit\n",
    "rss_full <- sum(residuals(full_model)^2)\n",
    "\n",
    "# making a reduced model by subtracting t1, t2, and its rss\n",
    "reduced_model <- lm(log(cost) ~ . -t1 -t2 -bw, data = nuclear.data)\n",
    "rss_reduced <- sum(residuals(reduced_model)^2)\n",
    "\n",
    "q <- 3 # number of covariates we want to remove\n",
    "N <- nrow(nuclear.data) # number of observations\n",
    "p <- length(coef(full_model)) - 1 # number of parameters in full model\n",
    "\n",
    "F_stat <- ((rss_reduced - rss_full) / q) / (rss_full / (N - p - 1)) \n",
    "print(paste(\"F-stat:\", F_stat))\n",
    "\n",
    "p_value <- pf(F_stat, df1 = q, df2 = (N - p - 1), lower.tail = FALSE)\n",
    "print(paste(\"p-value:\", p_value))\n",
    "\n",
    "# We can use ANOVA for a comparison\n",
    "anova(reduced_model, full_model)"
   ]
  },
  {
   "cell_type": "markdown",
   "metadata": {},
   "source": [
    "The $95\\%$ confidence intervals for all three covariates include 0, indicating that the effect of the covariates is uncertain. In the individual $H_0$-tests, their $Pr(>|t|)$-values were relatively high, indicating weak evidence against the null hypothesis $H_0: \\beta_j = 0$. This is also reflected in their low t-values (`t2` being the least likely to exclude here, with a significantly lower P-value and a higher t-value).  \n",
    "\n",
    "When comparing the full model with the reduced model (excluding `t1, t2, bw`), the residual sum of squares (RSS) slightly decreases, meaning that removing these variables, the model performs marginally better. Also, the F-test shows a relatively low F-value ($F = 0.7819$) and a high p-value ($p = 0.5173$). This confirms that the difference between the full and reduced models is not significant. \n",
    "\n",
    "Both individual and joint hypothesis tests show that `t1, t2, bw` do not provide a significant improvement to the model. This suggests that they can be removed without loss of predictive performance.\n"
   ]
  },
  {
   "cell_type": "markdown",
   "metadata": {},
   "source": [
    "**d) Forward selection**"
   ]
  },
  {
   "cell_type": "code",
   "execution_count": 9,
   "metadata": {
    "vscode": {
     "languageId": "r"
    }
   },
   "outputs": [
    {
     "name": "stdout",
     "output_type": "stream",
     "text": [
      "\n",
      "The downloaded binary packages are in\n",
      "\t/var/folders/dp/x5lf9lp142l0p7rp61v608h00000gn/T//RtmpOc9vVg/downloaded_packages\n"
     ]
    }
   ],
   "source": [
    "install.packages(\"leaps\")\n",
    "library(leaps)"
   ]
  },
  {
   "cell_type": "code",
   "execution_count": 10,
   "metadata": {
    "vscode": {
     "languageId": "r"
    }
   },
   "outputs": [
    {
     "data": {
      "text/plain": [
       "Subset selection object\n",
       "Call: regsubsets.formula(log(cost) ~ ., data = nuclear.data, nvmax = nvmax, \n",
       "    method = \"forward\")\n",
       "10 Variables  (and intercept)\n",
       "      Forced in Forced out\n",
       "date      FALSE      FALSE\n",
       "t1        FALSE      FALSE\n",
       "t2        FALSE      FALSE\n",
       "cap       FALSE      FALSE\n",
       "pr        FALSE      FALSE\n",
       "ne        FALSE      FALSE\n",
       "ct        FALSE      FALSE\n",
       "bw        FALSE      FALSE\n",
       "cum.n     FALSE      FALSE\n",
       "pt        FALSE      FALSE\n",
       "1 subsets of each size up to 10\n",
       "Selection Algorithm: forward\n",
       "          date t1  t2  cap pr  ne  ct  bw  cum.n pt \n",
       "1  ( 1 )  \" \"  \" \" \" \" \" \" \" \" \" \" \" \" \" \" \" \"   \"*\"\n",
       "2  ( 1 )  \" \"  \" \" \" \" \"*\" \" \" \" \" \" \" \" \" \" \"   \"*\"\n",
       "3  ( 1 )  \"*\"  \" \" \" \" \"*\" \" \" \" \" \" \" \" \" \" \"   \"*\"\n",
       "4  ( 1 )  \"*\"  \" \" \" \" \"*\" \" \" \"*\" \" \" \" \" \" \"   \"*\"\n",
       "5  ( 1 )  \"*\"  \" \" \" \" \"*\" \" \" \"*\" \"*\" \" \" \" \"   \"*\"\n",
       "6  ( 1 )  \"*\"  \" \" \" \" \"*\" \" \" \"*\" \"*\" \" \" \"*\"   \"*\"\n",
       "7  ( 1 )  \"*\"  \" \" \" \" \"*\" \" \" \"*\" \"*\" \"*\" \"*\"   \"*\"\n",
       "8  ( 1 )  \"*\"  \" \" \" \" \"*\" \"*\" \"*\" \"*\" \"*\" \"*\"   \"*\"\n",
       "9  ( 1 )  \"*\"  \" \" \"*\" \"*\" \"*\" \"*\" \"*\" \"*\" \"*\"   \"*\"\n",
       "10  ( 1 ) \"*\"  \"*\" \"*\" \"*\" \"*\" \"*\" \"*\" \"*\" \"*\"   \"*\""
      ]
     },
     "metadata": {},
     "output_type": "display_data"
    }
   ],
   "source": [
    "nvmax = ncol(nuclear.data) - 1\n",
    "nuclear.fwd <- regsubsets(log(cost) ~ ., data=nuclear.data, nvmax=nvmax, method=\"forward\")\n",
    "summary.nuclear.fwd <- summary(nuclear.fwd)\n",
    "summary.nuclear.fwd"
   ]
  },
  {
   "cell_type": "markdown",
   "metadata": {},
   "source": [
    "The lower table in the summary indicates that the optimal forward selection was performed in this order: `pt, cap, date, ne, ct, cum.n, bw, pr, t2, t1`\n",
    "\n",
    "We now want to use  **Bayesian Information Criterion (BIC)** and **Akaike Information Criterion (AIC)** to determine the best models. BIC and AIC are obtained with the formulas\n",
    "$$BIC = -2l(\\hat{\\theta}) + \\log(N)d \\qquad AIC = -2l(\\hat{\\theta}) + 2d$$\n",
    "where $l(\\hat{\\theta})$ is the Maximum Likelihood Estimate of $\\theta$, $N$ is the number of observations (rows) and $d$ is the number of estimated parameters, including the intercept. BIC can be found in the `summary()`, and we can use this to determine AIC."
   ]
  },
  {
   "cell_type": "code",
   "execution_count": 11,
   "metadata": {
    "vscode": {
     "languageId": "r"
    }
   },
   "outputs": [
    {
     "data": {
      "image/png": "[encoded data removed]",
      "text/plain": [
       "Plot with title “Forward selection: AIC and BIC vs. model size”"
      ]
     },
     "metadata": {
      "image/png": {
       "height": 420,
       "width": 420
      }
     },
     "output_type": "display_data"
    }
   ],
   "source": [
    "N <- nrow(nuclear.data) # number of observations\n",
    "\n",
    "# estimating AIC from BIC, where AIC = BIC - log(N)d + 2d\n",
    "d = (c(1 : nvmax) + 2)\n",
    "summary.nuclear.fwd$aic = summary.nuclear.fwd$bic - log(N) * d + 2 * d\n",
    "\n",
    "par(bg=\"white\") # white background when using dark mode ;)\n",
    "matplot(\n",
    "  cbind(summary.nuclear.fwd$aic, summary.nuclear.fwd$bic),\n",
    "  type = \"l\",\n",
    "  lty = 1,\n",
    "  col = c(\"blue\", \"red\"),\n",
    "  xlab = \"Number of covariates\",\n",
    "  ylab = \"Criterion value\",\n",
    "  main = \"Forward selection: AIC and BIC vs. model size\"\n",
    ")\n",
    "\n",
    "p.aic = which.min(summary.nuclear.fwd$aic)\n",
    "p.bic = which.min(summary.nuclear.fwd$bic)\n",
    "\n",
    "points(c(p.aic, p.bic),\n",
    "       c(summary.nuclear.fwd$aic[p.aic], summary.nuclear.fwd$bic[p.bic]),\n",
    "       col=c(\"blue\", \"red\"), pch=19)"
   ]
  },
  {
   "cell_type": "code",
   "execution_count": 12,
   "metadata": {
    "vscode": {
     "languageId": "r"
    }
   },
   "outputs": [
    {
     "name": "stdout",
     "output_type": "stream",
     "text": [
      "Best model in forward selection, AIC: date cap ne ct cum.n pt \n",
      "Best model in forward selection, BIC: date cap ne ct pt \n"
     ]
    }
   ],
   "source": [
    "# covariates chosen by AIC and BIC\n",
    "best_model_fwd_aic <- which.min(summary.nuclear.fwd$aic)\n",
    "best_model_fwd_bic <- which.min(summary.nuclear.fwd$bic)\n",
    "\n",
    "# getting variable names\n",
    "selected_vars_aic <- names(which(summary.nuclear.fwd$which[best_model_fwd_aic, ]))[-1] # no intercept\n",
    "selected_vars_bic <- names(which(summary.nuclear.fwd$which[best_model_fwd_bic, ]))[-1] \n",
    "\n",
    "cat(\"Best model in forward selection, AIC:\", selected_vars_aic, \"\\n\")\n",
    "cat(\"Best model in forward selection, BIC:\", selected_vars_bic, \"\\n\")\n"
   ]
  },
  {
   "cell_type": "markdown",
   "metadata": {
    "vscode": {
     "languageId": "r"
    }
   },
   "source": [
    "We see here that both AIC and BIC have chosen the covariates `date, cap, ne, pt`, and AIC has furthermore included `cum.n` This is very much in line with the significance star codes in the original `summary()`. Since BIC tends to lean towards fewer covariates, it seems logical that it has omitted `cum.n`, which according to the mentioned summary is the least significant covariate now.\n",
    "\n",
    "**e) Backward selection**"
   ]
  },
  {
   "cell_type": "code",
   "execution_count": 13,
   "metadata": {
    "vscode": {
     "languageId": "r"
    }
   },
   "outputs": [
    {
     "data": {
      "text/plain": [
       "Subset selection object\n",
       "Call: regsubsets.formula(log(cost) ~ ., data = nuclear.data, nvmax = nvmax, \n",
       "    method = \"backward\")\n",
       "10 Variables  (and intercept)\n",
       "      Forced in Forced out\n",
       "date      FALSE      FALSE\n",
       "t1        FALSE      FALSE\n",
       "t2        FALSE      FALSE\n",
       "cap       FALSE      FALSE\n",
       "pr        FALSE      FALSE\n",
       "ne        FALSE      FALSE\n",
       "ct        FALSE      FALSE\n",
       "bw        FALSE      FALSE\n",
       "cum.n     FALSE      FALSE\n",
       "pt        FALSE      FALSE\n",
       "1 subsets of each size up to 10\n",
       "Selection Algorithm: backward\n",
       "          date t1  t2  cap pr  ne  ct  bw  cum.n pt \n",
       "1  ( 1 )  \" \"  \" \" \" \" \" \" \" \" \" \" \" \" \" \" \" \"   \"*\"\n",
       "2  ( 1 )  \" \"  \" \" \" \" \"*\" \" \" \" \" \" \" \" \" \" \"   \"*\"\n",
       "3  ( 1 )  \"*\"  \" \" \" \" \"*\" \" \" \" \" \" \" \" \" \" \"   \"*\"\n",
       "4  ( 1 )  \"*\"  \" \" \" \" \"*\" \" \" \"*\" \" \" \" \" \" \"   \"*\"\n",
       "5  ( 1 )  \"*\"  \" \" \" \" \"*\" \" \" \"*\" \"*\" \" \" \" \"   \"*\"\n",
       "6  ( 1 )  \"*\"  \" \" \" \" \"*\" \" \" \"*\" \"*\" \" \" \"*\"   \"*\"\n",
       "7  ( 1 )  \"*\"  \" \" \"*\" \"*\" \" \" \"*\" \"*\" \" \" \"*\"   \"*\"\n",
       "8  ( 1 )  \"*\"  \" \" \"*\" \"*\" \"*\" \"*\" \"*\" \" \" \"*\"   \"*\"\n",
       "9  ( 1 )  \"*\"  \" \" \"*\" \"*\" \"*\" \"*\" \"*\" \"*\" \"*\"   \"*\"\n",
       "10  ( 1 ) \"*\"  \"*\" \"*\" \"*\" \"*\" \"*\" \"*\" \"*\" \"*\"   \"*\""
      ]
     },
     "metadata": {},
     "output_type": "display_data"
    }
   ],
   "source": [
    "nvmax = ncol(nuclear.data) - 1\n",
    "nuclear.bwd <- regsubsets(log(cost) ~ ., data=nuclear.data, nvmax=nvmax, method=\"backward\")\n",
    "summary.nuclear.bwd <- summary(nuclear.bwd)\n",
    "summary.nuclear.bwd"
   ]
  },
  {
   "cell_type": "markdown",
   "metadata": {},
   "source": [
    "Backward selection starts with all the covariates, then remove them one by one in the following order: `t1, bw, pr, t2, cum.n, ct, ne, date, cap, pt`"
   ]
  },
  {
   "cell_type": "code",
   "execution_count": 14,
   "metadata": {
    "vscode": {
     "languageId": "r"
    }
   },
   "outputs": [
    {
     "data": {
      "image/png": "[encoded data removed]",
      "text/plain": [
       "Plot with title “Backward selection: AIC and BIC vs. model size”"
      ]
     },
     "metadata": {
      "image/png": {
       "height": 420,
       "width": 420
      }
     },
     "output_type": "display_data"
    }
   ],
   "source": [
    "N <- nrow(nuclear.data) # number of observations\n",
    "\n",
    "d = (c(1 : nvmax) + 2)\n",
    "summary.nuclear.bwd$aic = summary.nuclear.bwd$bic - log(N) * d + 2 * d\n",
    "\n",
    "par(bg=\"white\")\n",
    "\n",
    "matplot(\n",
    "  cbind(summary.nuclear.bwd$aic, summary.nuclear.bwd$bic),\n",
    "  type = \"l\",\n",
    "  lty = 1,\n",
    "  col = c(\"blue\", \"red\"),\n",
    "  xlab = \"Number of covariates\",\n",
    "  ylab = \"Criterion value\",\n",
    "  main = \"Backward selection: AIC and BIC vs. model size\"\n",
    ")\n",
    "\n",
    "p.aic = which.min(summary.nuclear.bwd$aic)\n",
    "p.bic = which.min(summary.nuclear.bwd$bic)\n",
    "\n",
    "points(c(p.aic, p.bic),\n",
    "       c(summary.nuclear.bwd$aic[p.aic], summary.nuclear.bwd$bic[p.bic]),\n",
    "       col=c(\"blue\", \"red\"), pch=19)\n",
    "\n",
    "legend(\"topright\",c(\"AIC\",\"BIC\"),lty=1,col=1:3,)\n"
   ]
  },
  {
   "cell_type": "code",
   "execution_count": 15,
   "metadata": {
    "vscode": {
     "languageId": "r"
    }
   },
   "outputs": [
    {
     "name": "stdout",
     "output_type": "stream",
     "text": [
      "Best model in backward selection, AIC: date t2 cap pr ne ct cum.n pt \n",
      "Best model in backward selection, BIC: date cap ne ct pt \n"
     ]
    }
   ],
   "source": [
    "best_model_bwd_aic <- which.min(summary.nuclear.bwd$aic)\n",
    "best_model_bwd_bic <- which.min(summary.nuclear.bwd$bic)\n",
    "\n",
    "selected_vars_aic <- names(which(summary.nuclear.bwd$which[best_model_bwd_aic, ]))[-1]  \n",
    "selected_vars_bic <- names(which(summary.nuclear.bwd$which[best_model_bwd_bic, ]))[-1] \n",
    "\n",
    "cat(\"Best model in backward selection, AIC:\", selected_vars_aic, \"\\n\")\n",
    "cat(\"Best model in backward selection, BIC:\", selected_vars_bic, \"\\n\")\n"
   ]
  },
  {
   "cell_type": "markdown",
   "metadata": {},
   "source": [
    "After both forward and backward selection has been performed, and since BIC rendered 5 covariates in both tests (see the summary after each test for covariates), we are left with three \"best\" models. Interestingly, AIC choose to include `t2` in the backward selection. As discussed in **c)** this *could* be logical, as `t2` has a higher significance than `t1, bw` according to the results from the hypothesis testing, and by visual inspection of the confidence intervals.\n",
    "\n",
    "**f) K-Fold Cross Validation**"
   ]
  },
  {
   "cell_type": "code",
   "execution_count": 16,
   "metadata": {},
   "outputs": [
    {
     "name": "stdout",
     "output_type": "stream",
     "text": [
      "                       Method        MSE\n",
      "AIC (forward)   AIC (forward) 0.03822791\n",
      "BIC (forward)   BIC (forward) 0.03821806\n",
      "AIC (backward) AIC (backward) 0.03923557\n",
      "BIC (backward) BIC (backward) 0.03821806\n"
     ]
    }
   ],
   "source": [
    "Err.Kcv <- rep(0, 4) # number of \"best of\" models\n",
    "K <- 10\n",
    "N <- nrow(nuclear.data) # observations\n",
    "\n",
    "# we need the covariates from our \"best of models\"\n",
    "covariates_fwd_aic <- names(which(summary.nuclear.fwd$which[best_model_fwd_aic, ]))[-1]\n",
    "covariates_fwd_bic <- names(which(summary.nuclear.fwd$which[best_model_fwd_bic, ]))[-1]\n",
    "covariates_bwd_aic <- names(which(summary.nuclear.bwd$which[best_model_bwd_aic, ]))[-1]\n",
    "covariates_bwd_bic <- names(which(summary.nuclear.bwd$which[best_model_bwd_bic, ]))[-1]\n",
    "\n",
    "models <- list(\n",
    "  \"AIC (forward)\" = covariates_fwd_aic,\n",
    "  \"BIC (forward)\" = covariates_fwd_bic,\n",
    "  \"AIC (backward)\" = covariates_bwd_aic,\n",
    "  \"BIC (backward)\" = covariates_bwd_bic\n",
    ")\n",
    "\n",
    "index <- sample(rep(1:K, ceiling(N/K))[1:N])\n",
    "\n",
    "for (p in 1:4) {\n",
    "  # setting a formula-string\n",
    "  formula.str <- paste(\"log(cost) ~\", paste(models[[p]], collapse = \" + \"))\n",
    "  \n",
    "  # accumulating squared errors\n",
    "  SSE <- 0\n",
    "  \n",
    "  for (k in 1:K) {\n",
    "    # training the model on everything but the fold k\n",
    "    nuclear.Kcv <- lm(\n",
    "      as.formula(formula.str),\n",
    "      data = nuclear.data,\n",
    "      subset = (1:N)[-which(index == k)]\n",
    "    )\n",
    "    test_inds <- which(index == k)\n",
    "    \n",
    "    for (i in test_inds) {\n",
    "      # log scaling\n",
    "      y_true_log <- log(nuclear.data$cost[i])\n",
    "      y_pred_log <- predict(nuclear.Kcv, newdata = nuclear.data[i, models[[p]], drop = FALSE])\n",
    "      \n",
    "      SSE <- SSE + (y_true_log - y_pred_log)^2\n",
    "    }\n",
    "  }\n",
    "  \n",
    "  # finding MSE as 1/N*SSE\n",
    "  Err.Kcv[p] <- SSE / N\n",
    "}\n",
    "\n",
    "names(Err.Kcv) <- c(\"AIC (forward)\", \"BIC (forward)\", \"AIC (backward)\", \"BIC (backward)\")\n",
    "print(data.frame(Method = names(Err.Kcv), MSE = Err.Kcv))"
   ]
  },
  {
   "cell_type": "markdown",
   "metadata": {
    "vscode": {
     "languageId": "r"
    }
   },
   "source": [
    "We see that MSE for `BIC (forward)` and `BIC (backward)` are the same, which is expected, since the models are identical.\n",
    "\n",
    "**g) Bootstrap 0.632-model**"
   ]
  },
  {
   "cell_type": "code",
   "execution_count": 17,
   "metadata": {},
   "outputs": [
    {
     "data": {
      "text/html": [
       "<table class=\"dataframe\">\n",
       "<caption>A data.frame: 4 × 2</caption>\n",
       "<thead>\n",
       "\t<tr><th scope=col>Model</th><th scope=col>MSE_632</th></tr>\n",
       "\t<tr><th scope=col>&lt;chr&gt;</th><th scope=col>&lt;dbl&gt;</th></tr>\n",
       "</thead>\n",
       "<tbody>\n",
       "\t<tr><td>AIC (forward) </td><td>0.03659303</td></tr>\n",
       "\t<tr><td>BIC (forward) </td><td>0.03529443</td></tr>\n",
       "\t<tr><td>AIC (backward)</td><td>0.03972387</td></tr>\n",
       "\t<tr><td>BIC (backward)</td><td>0.03529443</td></tr>\n",
       "</tbody>\n",
       "</table>\n"
      ],
      "text/latex": [
       "A data.frame: 4 × 2\n",
       "\\begin{tabular}{ll}\n",
       " Model & MSE\\_632\\\\\n",
       " <chr> & <dbl>\\\\\n",
       "\\hline\n",
       "\t AIC (forward)  & 0.03659303\\\\\n",
       "\t BIC (forward)  & 0.03529443\\\\\n",
       "\t AIC (backward) & 0.03972387\\\\\n",
       "\t BIC (backward) & 0.03529443\\\\\n",
       "\\end{tabular}\n"
      ],
      "text/markdown": [
       "\n",
       "A data.frame: 4 × 2\n",
       "\n",
       "| Model &lt;chr&gt; | MSE_632 &lt;dbl&gt; |\n",
       "|---|---|\n",
       "| AIC (forward)  | 0.03659303 |\n",
       "| BIC (forward)  | 0.03529443 |\n",
       "| AIC (backward) | 0.03972387 |\n",
       "| BIC (backward) | 0.03529443 |\n",
       "\n"
      ],
      "text/plain": [
       "  Model          MSE_632   \n",
       "1 AIC (forward)  0.03659303\n",
       "2 BIC (forward)  0.03529443\n",
       "3 AIC (backward) 0.03972387\n",
       "4 BIC (backward) 0.03529443"
      ]
     },
     "metadata": {},
     "output_type": "display_data"
    }
   ],
   "source": [
    "B <- 1000\n",
    "N <- nrow(nuclear.data)\n",
    "\n",
    "SSE_Train <- rep(0, 4)\n",
    "SSE_Test  <- rep(0, 4)\n",
    "nTrain    <- rep(0, 4)\n",
    "nTest     <- rep(0, 4)\n",
    "\n",
    "for (b in 1:B) {\n",
    "  index <- sample(N, replace = TRUE)\n",
    "\n",
    "  # splitting into training and test data\n",
    "  temp.train.data <- nuclear.data[index, , drop = FALSE]\n",
    "  temp.test.data  <- nuclear.data[-index, , drop = FALSE]\n",
    "\n",
    "  # adding a logCost response variable in training and test sets\n",
    "  temp.train.data$logCost <- log(temp.train.data$cost)\n",
    "  temp.test.data$logCost  <- log(temp.test.data$cost)\n",
    "\n",
    "  for (m in 1:4) {\n",
    "\n",
    "    formula.str <- paste(\"logCost ~\", paste(models[[m]], collapse = \" + \"))\n",
    "    \n",
    "    # fitting model on training data (used suppressWarnings to turn off rank deficiency warnings)\n",
    "    model.boot <- lm(as.formula(formula.str), data = temp.train.data)\n",
    "    \n",
    "    y_pred_train <- predict(model.boot, newdata = temp.train.data)\n",
    "    y_true_train <- temp.train.data$logCost\n",
    "    SSE_Train[m] <- SSE_Train[m] + sum((y_true_train - y_pred_train)^2)\n",
    "    nTrain[m]    <- nTrain[m] + nrow(temp.train.data)\n",
    "    \n",
    "    if (nrow(temp.test.data) > 0) {\n",
    "      y_pred_test <- predict(model.boot, newdata = temp.test.data)\n",
    "      y_true_test <- temp.test.data$logCost\n",
    "      SSE_Test[m] <- SSE_Test[m] + sum((y_true_test - y_pred_test)^2)\n",
    "      nTest[m]    <- nTest[m] + nrow(temp.test.data)\n",
    "    }\n",
    "  }\n",
    "}\n",
    "\n",
    "# getting MSE\n",
    "MSE_Train <- SSE_Train / nTrain\n",
    "MSE_Test  <- SSE_Test  / nTest\n",
    "\n",
    "# 0.632 bootstrap\n",
    "MSE_632 <- 0.368 * MSE_Train + 0.632 * MSE_Test\n",
    "\n",
    "best.model <- which.min(MSE_632)\n",
    "\n",
    "# printing results\n",
    "results <- data.frame(\n",
    "  Model    = names(models),\n",
    "  MSE_632   = MSE_632\n",
    ")\n",
    "\n",
    "results"
   ]
  },
  {
   "cell_type": "markdown",
   "metadata": {},
   "source": [
    "Also after bootstrap with $B=1000$ and using the \"0.632-estimator\", the model with the best result is the BIC forward or backward models, namely the model with the least covariates. With this method we obtained a slightly lower $MSE = 0.0348$ than with K-Fold Cross Validation ($MSE = 0.0382$).\n",
    "\n",
    "**h) Shrinkage with Ridge**"
   ]
  },
  {
   "cell_type": "code",
   "execution_count": 18,
   "metadata": {},
   "outputs": [
    {
     "name": "stdout",
     "output_type": "stream",
     "text": [
      "\n",
      "The downloaded binary packages are in\n",
      "\t/var/folders/dp/x5lf9lp142l0p7rp61v608h00000gn/T//RtmpOc9vVg/downloaded_packages\n"
     ]
    },
    {
     "name": "stderr",
     "output_type": "stream",
     "text": [
      "Loading required package: Matrix\n",
      "\n",
      "Loaded glmnet 4.1-8\n",
      "\n"
     ]
    }
   ],
   "source": [
    "# downloading packages\n",
    "install.packages(\"glmnet\")\n",
    "library(glmnet)"
   ]
  },
  {
   "cell_type": "code",
   "execution_count": null,
   "metadata": {},
   "outputs": [],
   "source": []
  },
  {
   "cell_type": "code",
   "execution_count": null,
   "metadata": {},
   "outputs": [],
   "source": []
  },
  {
   "cell_type": "code",
   "execution_count": 19,
   "metadata": {},
   "outputs": [
    {
     "name": "stdout",
     "output_type": "stream",
     "text": [
      "Optimal lambda chosen by 10-fold CV for Ridge: 0.07054802 \n",
      "MSE for Ridge Regression (10-fold CV): 0.04225129 \n"
     ]
    }
   ],
   "source": [
    "# Preparing the design matrix (without intercept) and response for glmnet function\n",
    "X <- model.matrix(log(cost) ~ ., data = nuclear.data)[,-1]\n",
    "y <- log(nuclear.data$cost)\n",
    "\n",
    "K <- 10  # Number of folds\n",
    "N <- nrow(nuclear.data)\n",
    "\n",
    "index <- sample(rep(1:K, ceiling(N/K))[1:N])  # Cross-validation indices\n",
    "\n",
    "# Step 1: Use 10-fold CV to select optimal lambda\n",
    "lambda.grid <- 10^seq(5, -2, length = 100)\n",
    "fit.ridge.cv <- cv.glmnet(X, y, lambda = lambda.grid, alpha = 0)\n",
    "\n",
    "optimal_lambda_ridge <- fit.ridge.cv$lambda.min\n",
    "\n",
    "cat(\"Optimal lambda chosen by 10-fold CV for Ridge:\", optimal_lambda_ridge, \"\\n\")\n",
    "\n",
    "# Step 2: Use 10-fold CV to compute MSE with chosen lambda\n",
    "MSE_Ridge_Kcv <- 0\n",
    "\n",
    "for (k in 1:K) {\n",
    "  # Training and test split\n",
    "  train_inds <- which(index != k)\n",
    "  test_inds  <- which(index == k)\n",
    "  \n",
    "  X_train <- X[train_inds, ]\n",
    "  y_train <- y[train_inds]\n",
    "  X_test  <- X[test_inds, ]\n",
    "  y_test  <- y[test_inds]\n",
    "\n",
    "  # Fit Ridge model with the optimal lambda from step 1\n",
    "  fit.ridge <- glmnet(X_train, y_train, lambda = optimal_lambda_ridge, alpha = 0)\n",
    "\n",
    "  # Predict on test set\n",
    "  y_pred_ridge <- predict(fit.ridge, newx = X_test)\n",
    "\n",
    "  # Accumulate squared error\n",
    "  MSE_Ridge_Kcv <- MSE_Ridge_Kcv + sum((y_test - y_pred_ridge)^2)\n",
    "}\n",
    "\n",
    "# Compute final MSE for Ridge\n",
    "MSE_Ridge_Kcv <- MSE_Ridge_Kcv / N\n",
    "\n",
    "# Print results\n",
    "cat(\"MSE for Ridge Regression (10-fold CV):\", MSE_Ridge_Kcv, \"\\n\")"
   ]
  },
  {
   "cell_type": "markdown",
   "metadata": {},
   "source": [
    "We note that Ridge regression with 10-fold Cross Validation renders a best $MSE = 0.0423$ which is slightly higher than for with the bootstrap 0.632-method ($MSE = 0.0353$)."
   ]
  },
  {
   "cell_type": "code",
   "execution_count": 20,
   "metadata": {},
   "outputs": [
    {
     "name": "stdout",
     "output_type": "stream",
     "text": [
      "Optimal lambda chosen by 10-fold CV for Lasso: 0.02656088 \n",
      "MSE for Lasso Regression (10-fold CV evaluation): 0.03847974 \n"
     ]
    }
   ],
   "source": [
    "# Preparing the design matrix (without intercept) and response for glmnet function\n",
    "X <- model.matrix(log(cost) ~ ., data = nuclear.data)[,-1]\n",
    "y <- log(nuclear.data$cost)\n",
    "\n",
    "K <- 10  # Number of folds\n",
    "N <- nrow(nuclear.data)\n",
    "\n",
    "index <- sample(rep(1:K, ceiling(N/K))[1:N])  # Cross-validation indices\n",
    "\n",
    "# Step 1: Use 10-fold CV to select optimal lambda for Lasso\n",
    "lambda.grid <- 10^seq(5, -2, length = 100)\n",
    "fit.lasso.cv <- cv.glmnet(X, y, lambda = lambda.grid, alpha = 1)\n",
    "\n",
    "optimal_lambda_lasso <- fit.lasso.cv$lambda.min\n",
    "\n",
    "cat(\"Optimal lambda chosen by 10-fold CV for Lasso:\", optimal_lambda_lasso, \"\\n\")\n",
    "\n",
    "# Step 2: Use 10-fold CV to compute MSE with chosen lambda\n",
    "MSE_Lasso_Kcv <- 0\n",
    "\n",
    "for (k in 1:K) {\n",
    "  # Training and test split\n",
    "  train_inds <- which(index != k)\n",
    "  test_inds  <- which(index == k)\n",
    "  \n",
    "  X_train <- X[train_inds, ]\n",
    "  y_train <- y[train_inds]\n",
    "  X_test  <- X[test_inds, ]\n",
    "  y_test  <- y[test_inds]\n",
    "\n",
    "  # Fit Lasso model with the optimal lambda from step 1\n",
    "  fit.lasso <- glmnet(X_train, y_train, lambda = optimal_lambda_lasso, alpha = 1)\n",
    "\n",
    "  # Predict on test set\n",
    "  y_pred_lasso <- predict(fit.lasso, newx = X_test)\n",
    "\n",
    "  # Accumulate squared error\n",
    "  MSE_Lasso_Kcv <- MSE_Lasso_Kcv + sum((y_test - y_pred_lasso)^2)\n",
    "}\n",
    "\n",
    "# Compute final MSE for Lasso\n",
    "MSE_Lasso_Kcv <- MSE_Lasso_Kcv / N\n",
    "\n",
    "# Print results\n",
    "cat(\"MSE for Lasso Regression (10-fold CV evaluation):\", MSE_Lasso_Kcv, \"\\n\")"
   ]
  },
  {
   "cell_type": "markdown",
   "metadata": {},
   "source": [
    "Lasso regression with 10-fold Cross Validation leaves us with a best $MSE = 0.0385$ which is marginally lower than for Ridge, however also slightly higher than for with the bootstrap 0.632-method ($MSE = 0.0353$)."
   ]
  },
  {
   "cell_type": "code",
   "execution_count": null,
   "metadata": {},
   "outputs": [],
   "source": []
  }
 ],
 "metadata": {
  "kernelspec": {
   "display_name": "R",
   "language": "R",
   "name": "ir"
  },
  "language_info": {
   "codemirror_mode": "r",
   "file_extension": ".r",
   "mimetype": "text/x-r-source",
   "name": "R",
   "pygments_lexer": "r",
   "version": "4.4.2"
  }
 },
 "nbformat": 4,
 "nbformat_minor": 4
}
