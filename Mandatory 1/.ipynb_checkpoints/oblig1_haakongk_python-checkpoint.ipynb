{
 "cells": [
  {
   "cell_type": "code",
   "execution_count": 51,
   "id": "c7cf48d1-7b4e-411b-84fe-d501172e3509",
   "metadata": {},
   "outputs": [],
   "source": [
    "import numpy as np\n",
    "import pandas as pd\n",
    "import matplotlib.pyplot as plt\n",
    "import statsmodels.api as sm\n",
    "import statsmodels.formula.api as smf\n",
    "from scipy.stats import t, f"
   ]
  },
  {
   "cell_type": "code",
   "execution_count": 39,
   "id": "0e4877a2-424f-42b0-9df9-31e003e43b16",
   "metadata": {},
   "outputs": [],
   "source": [
    "url = \"https://www.uio.no/studier/emner/matnat/math/STK2100/data/nuclear.dat\"\n",
    "nuclear_data = pd.read_csv(url, sep=\"\\t\", header=None)\n",
    "\n",
    "nuclear_data.columns = nuclear_data.iloc[0]  # setting first row as column names\n",
    "nuclear_data = nuclear_data.iloc[1:].reset_index(drop=True)  # removing first row\n",
    "\n",
    "np.random.seed(1977)"
   ]
  },
  {
   "cell_type": "code",
   "execution_count": 40,
   "id": "fcb301a0-1101-46ac-b106-9b144f6330aa",
   "metadata": {},
   "outputs": [],
   "source": [
    "# all of the data to numeric\n",
    "nuclear_data = nuclear_data.apply(pd.to_numeric)"
   ]
  },
  {
   "cell_type": "code",
   "execution_count": 41,
   "id": "f4075d42-0920-4f51-b169-eda3b18f274a",
   "metadata": {},
   "outputs": [],
   "source": [
    "nuclear_data[\"cost\"] = np.log(nuclear_data[\"cost\"])\n",
    "\n",
    "y = nuclear_data[\"cost\"]\n",
    "X = nuclear_data.drop(columns=[\"cost\"])\n",
    "X = sm.add_constant(X)\n",
    "\n",
    "# Kjør lineær regresjon\n",
    "nuclear_fit = sm.OLS(y, X).fit()"
   ]
  },
  {
   "cell_type": "code",
   "execution_count": 42,
   "id": "dc1e1e8d-d1d4-49d7-a2a6-c28dc1ce044f",
   "metadata": {},
   "outputs": [
    {
     "name": "stdout",
     "output_type": "stream",
     "text": [
      "                            OLS Regression Results                            \n",
      "==============================================================================\n",
      "Dep. Variable:                   cost   R-squared:                       0.863\n",
      "Model:                            OLS   Adj. R-squared:                  0.798\n",
      "Method:                 Least Squares   F-statistic:                     13.28\n",
      "Date:                Fri, 28 Feb 2025   Prob (F-statistic):           5.72e-07\n",
      "Time:                        22:35:44   Log-Likelihood:                 18.101\n",
      "No. Observations:                  32   AIC:                            -14.20\n",
      "Df Residuals:                      21   BIC:                             1.921\n",
      "Df Model:                          10                                         \n",
      "Covariance Type:            nonrobust                                         \n",
      "==============================================================================\n",
      "                 coef    std err          t      P>|t|      [0.025      0.975]\n",
      "------------------------------------------------------------------------------\n",
      "const        -10.6340      5.710     -1.862      0.077     -22.509       1.241\n",
      "date           0.2276      0.087      2.629      0.016       0.048       0.408\n",
      "t1             0.0053      0.022      0.236      0.816      -0.041       0.052\n",
      "t2             0.0056      0.005      1.220      0.236      -0.004       0.015\n",
      "cap            0.0009      0.000      4.878      0.000       0.001       0.001\n",
      "pr            -0.1081      0.084     -1.295      0.209      -0.282       0.066\n",
      "ne             0.2595      0.079      3.274      0.004       0.095       0.424\n",
      "ct             0.1155      0.070      1.644      0.115      -0.031       0.262\n",
      "bw             0.0368      0.106      0.346      0.733      -0.184       0.258\n",
      "cum.n         -0.0120      0.008     -1.536      0.139      -0.028       0.004\n",
      "pt            -0.2220      0.130     -1.702      0.104      -0.493       0.049\n",
      "==============================================================================\n",
      "Omnibus:                        0.488   Durbin-Watson:                   2.260\n",
      "Prob(Omnibus):                  0.784   Jarque-Bera (JB):                0.482\n",
      "Skew:                          -0.262   Prob(JB):                        0.786\n",
      "Kurtosis:                       2.706   Cond. No.                     1.62e+05\n",
      "==============================================================================\n",
      "\n",
      "Notes:\n",
      "[1] Standard Errors assume that the covariance matrix of the errors is correctly specified.\n",
      "[2] The condition number is large, 1.62e+05. This might indicate that there are\n",
      "strong multicollinearity or other numerical problems.\n"
     ]
    }
   ],
   "source": [
    "print(nuclear_fit.summary())"
   ]
  },
  {
   "cell_type": "code",
   "execution_count": 43,
   "id": "86c8cf30-6e69-4731-b1fa-187a1feecc65",
   "metadata": {},
   "outputs": [
    {
     "name": "stdout",
     "output_type": "stream",
     "text": [
      "    Lower Bound  Upper Bound\n",
      "t1    -0.042414     0.052917\n",
      "t2    -0.004216     0.015428\n",
      "bw    -0.190361     0.263953\n"
     ]
    }
   ],
   "source": [
    "N = nuclear_data.shape[0]\n",
    "p = len(nuclear_fit.params)\n",
    "alpha = 0.05\n",
    "\n",
    "beta_hats = nuclear_fit.params[[\"t1\", \"t2\", \"bw\"]]\n",
    "sigma_hat = np.sqrt(sum(nuclear_fit.resid ** 2) / (N - p - 1))\n",
    "\n",
    "X = nuclear_fit.model.exog\n",
    "v = np.linalg.inv(X.T @ X)\n",
    "\n",
    "se_beta_hats = sigma_hat * np.sqrt(np.diag(v)[[list(nuclear_fit.params.index).index(var) for var in [\"t1\", \"t2\", \"bw\"]]])\n",
    "\n",
    "t_value = t.ppf(1 - alpha/2, df=N - p - 1)\n",
    "conf_ints = np.column_stack((beta_hats - t_value * se_beta_hats, beta_hats + t_value * se_beta_hats))\n",
    "\n",
    "conf_ints_df = pd.DataFrame(conf_ints, index=[\"t1\", \"t2\", \"bw\"], columns=[\"Lower Bound\", \"Upper Bound\"])\n",
    "print(conf_ints_df)"
   ]
  },
  {
   "cell_type": "code",
   "execution_count": 46,
   "id": "730bac24-82f9-4dd4-95cf-28f6c2b24a2b",
   "metadata": {},
   "outputs": [
    {
     "name": "stdout",
     "output_type": "stream",
     "text": [
      "         mean   mean_se  mean_ci_lower  mean_ci_upper  obs_ci_lower  \\\n",
      "0  389.216308  1.240115     248.786348     608.913375     220.13658   \n",
      "\n",
      "   obs_ci_upper  \n",
      "0    688.160662  \n"
     ]
    }
   ],
   "source": [
    "expected_columns = nuclear_fit.model.exog_names  # Liste over forventede variabler\n",
    "new_x = pd.DataFrame({col: [0] for col in expected_columns})  \n",
    "\n",
    "new_x.update(pd.DataFrame({\n",
    "    \"date\": [70.0],\n",
    "    \"t1\": [13],\n",
    "    \"t2\": [50],\n",
    "    \"cap\": [800],\n",
    "    \"pr\": [1],\n",
    "    \"ne\": [0],\n",
    "    \"ct\": [0],\n",
    "    \"bw\": [1],\n",
    "    \"cum.n\": [8],\n",
    "    \"pt\": [1]\n",
    "}))\n",
    "\n",
    "if \"const\" in expected_columns:\n",
    "    new_x[\"const\"] = 1.0  \n",
    "\n",
    "new_x = new_x[expected_columns]\n",
    "pred_y = nuclear_fit.get_prediction(new_x).summary_frame(alpha=0.05)  # 95% prediksjonsintervall\n",
    "pred_z = np.exp(pred_y)\n",
    "\n",
    "print(pred_z)\n"
   ]
  },
  {
   "cell_type": "code",
   "execution_count": 50,
   "id": "1046c1a6-7b6f-4eb5-af28-075a455d262c",
   "metadata": {},
   "outputs": [
    {
     "name": "stdout",
     "output_type": "stream",
     "text": [
      "    Estimate  Std_Error   t_value   p_value\n",
      "t1  0.005252   0.022851  0.229830  0.820558\n",
      "t2  0.005606   0.004709  1.190606  0.247749\n",
      "bw  0.036796   0.108898  0.337895  0.738963\n"
     ]
    }
   ],
   "source": [
    "t_values = beta_hats / se_beta_hats\n",
    "p_values = 2 * t.cdf(-abs(t_values), df=N - p - 1)\n",
    "\n",
    "results = pd.DataFrame({\n",
    "    \"Estimate\": beta_hats,\n",
    "    \"Std_Error\": se_beta_hats,\n",
    "    \"t_value\": t_values,\n",
    "    \"p_value\": p_values\n",
    "})\n",
    "\n",
    "print(results)"
   ]
  },
  {
   "cell_type": "code",
   "execution_count": 52,
   "id": "097b8271-0fe3-4089-b49a-a7242db48e17",
   "metadata": {},
   "outputs": [
    {
     "name": "stdout",
     "output_type": "stream",
     "text": [
      "F-stat: 0.7820\n",
      "p-value: 0.5173\n",
      "   df_resid       ssr  df_diff  ss_diff         F    Pr(>F)\n",
      "0      24.0  0.671954      0.0      NaN       NaN       NaN\n",
      "1      21.0  0.604433      3.0  0.06752  0.781959  0.517266\n"
     ]
    }
   ],
   "source": [
    "full_model = nuclear_fit\n",
    "rss_full = sum(full_model.resid ** 2)\n",
    "\n",
    "X_reduced = nuclear_data.drop(columns=[\"cost\", \"t1\", \"t2\", \"bw\"])  # Fjerner de tre variablene\n",
    "X_reduced = sm.add_constant(X_reduced)  # Legger til konstant\n",
    "reduced_model = sm.OLS(nuclear_data[\"cost\"], X_reduced).fit()\n",
    "\n",
    "rss_reduced = sum(reduced_model.resid ** 2)\n",
    "\n",
    "q = 3\n",
    "N = nuclear_data.shape[0]\n",
    "p = len(full_model.params) - 1\n",
    "\n",
    "F_stat = ((rss_reduced - rss_full) / q) / (rss_full / (N - p - 1))\n",
    "print(f\"F-stat: {F_stat:.4f}\")\n",
    "\n",
    "p_value = 1 - f.cdf(F_stat, dfn=q, dfd=(N - p - 1))\n",
    "print(f\"p-value: {p_value:.4f}\")\n",
    "\n",
    "anova_table = sm.stats.anova_lm(reduced_model, full_model)\n",
    "print(anova_table)"
   ]
  },
  {
   "cell_type": "code",
   "execution_count": 54,
   "id": "4262ec9d-6252-4c98-91cf-97e90a48a1e8",
   "metadata": {},
   "outputs": [
    {
     "name": "stdout",
     "output_type": "stream",
     "text": [
      "Variabler valgt med AIC: ['pt', 'cap', 'date', 'ne', 'ct', 'cum.n']\n",
      "                            OLS Regression Results                            \n",
      "==============================================================================\n",
      "Dep. Variable:                   cost   R-squared:                       0.844\n",
      "Model:                            OLS   Adj. R-squared:                  0.807\n",
      "Method:                 Least Squares   F-statistic:                     22.57\n",
      "Date:                Fri, 28 Feb 2025   Prob (F-statistic):           5.80e-09\n",
      "Time:                        22:48:48   Log-Likelihood:                 15.983\n",
      "No. Observations:                  32   AIC:                            -17.97\n",
      "Df Residuals:                      25   BIC:                            -7.705\n",
      "Df Model:                           6                                         \n",
      "Covariance Type:            nonrobust                                         \n",
      "==============================================================================\n",
      "                 coef    std err          t      P>|t|      [0.025      0.975]\n",
      "------------------------------------------------------------------------------\n",
      "const         -9.2811      3.560     -2.607      0.015     -16.614      -1.949\n",
      "pt            -0.2432      0.118     -2.061      0.050      -0.486      -0.000\n",
      "cap            0.0009      0.000      5.693      0.000       0.001       0.001\n",
      "date           0.2129      0.052      4.112      0.000       0.106       0.320\n",
      "ne             0.2399      0.076      3.140      0.004       0.083       0.397\n",
      "ct             0.1411      0.065      2.165      0.040       0.007       0.275\n",
      "cum.n         -0.0109      0.007     -1.475      0.153      -0.026       0.004\n",
      "==============================================================================\n",
      "Omnibus:                        0.805   Durbin-Watson:                   2.456\n",
      "Prob(Omnibus):                  0.669   Jarque-Bera (JB):                0.386\n",
      "Skew:                          -0.269   Prob(JB):                        0.824\n",
      "Kurtosis:                       3.030   Cond. No.                     1.03e+05\n",
      "==============================================================================\n",
      "\n",
      "Notes:\n",
      "[1] Standard Errors assume that the covariance matrix of the errors is correctly specified.\n",
      "[2] The condition number is large, 1.03e+05. This might indicate that there are\n",
      "strong multicollinearity or other numerical problems.\n",
      "\n",
      "Variabler valgt med BIC: ['pt', 'cap', 'date', 'ne', 'ct']\n",
      "                            OLS Regression Results                            \n",
      "==============================================================================\n",
      "Dep. Variable:                   cost   R-squared:                       0.831\n",
      "Model:                            OLS   Adj. R-squared:                  0.798\n",
      "Method:                 Least Squares   F-statistic:                     25.50\n",
      "Date:                Fri, 28 Feb 2025   Prob (F-statistic):           2.96e-09\n",
      "Time:                        22:48:48   Log-Likelihood:                 14.647\n",
      "No. Observations:                  32   AIC:                            -17.29\n",
      "Df Residuals:                      26   BIC:                            -8.500\n",
      "Df Model:                           5                                         \n",
      "Covariance Type:            nonrobust                                         \n",
      "==============================================================================\n",
      "                 coef    std err          t      P>|t|      [0.025      0.975]\n",
      "------------------------------------------------------------------------------\n",
      "const         -5.4058      2.457     -2.200      0.037     -10.456      -0.356\n",
      "pt            -0.3478      0.096     -3.605      0.001      -0.546      -0.149\n",
      "cap            0.0009      0.000      5.378      0.000       0.001       0.001\n",
      "date           0.1564      0.036      4.393      0.000       0.083       0.230\n",
      "ne             0.1973      0.072      2.729      0.011       0.049       0.346\n",
      "ct             0.1154      0.064      1.797      0.084      -0.017       0.247\n",
      "==============================================================================\n",
      "Omnibus:                        2.039   Durbin-Watson:                   2.313\n",
      "Prob(Omnibus):                  0.361   Jarque-Bera (JB):                0.922\n",
      "Skew:                           0.160   Prob(JB):                        0.631\n",
      "Kurtosis:                       3.767   Cond. No.                     6.95e+04\n",
      "==============================================================================\n",
      "\n",
      "Notes:\n",
      "[1] Standard Errors assume that the covariance matrix of the errors is correctly specified.\n",
      "[2] The condition number is large, 6.95e+04. This might indicate that there are\n",
      "strong multicollinearity or other numerical problems.\n"
     ]
    }
   ],
   "source": [
    "def forward_selection(X, y, criterion):\n",
    "    selected_vars = []\n",
    "    remaining_vars = list(X.columns)\n",
    "    best_criterion = np.inf\n",
    "    best_model = None\n",
    "\n",
    "    while remaining_vars:\n",
    "        criterion_values = []\n",
    "\n",
    "        for var in remaining_vars:\n",
    "            model = sm.OLS(y, sm.add_constant(X[selected_vars + [var]])).fit()\n",
    "            \n",
    "            if criterion == 'AIC':\n",
    "                criterion_values.append((model.aic, var, model))\n",
    "            elif criterion == 'BIC':\n",
    "                criterion_values.append((model.bic, var, model))\n",
    "\n",
    "        criterion_values.sort()\n",
    "        best_new_criterion, best_var, best_new_model = criterion_values[0]\n",
    "\n",
    "        # Sjekk om ny AIC/BIC er lavere enn den forrige beste\n",
    "        if best_new_criterion < best_criterion:\n",
    "            best_criterion = best_new_criterion\n",
    "            selected_vars.append(best_var)\n",
    "            remaining_vars.remove(best_var)\n",
    "            best_model = best_new_model\n",
    "        else:\n",
    "            break  # Stopp hvis ingen forbedring\n",
    "\n",
    "    return selected_vars, best_model\n",
    "\n",
    "# Dataforberedelse\n",
    "y = nuclear_data[\"cost\"]  # Log-transformert tidligere\n",
    "X = nuclear_data.drop(columns=[\"cost\"])  # Forklaringsvariabler\n",
    "\n",
    "# Kjør forward selection med AIC\n",
    "selected_aic, model_aic = forward_selection(X, y, criterion=\"AIC\")\n",
    "\n",
    "# Kjør forward selection med BIC\n",
    "selected_bic, model_bic = forward_selection(X, y, criterion=\"BIC\")\n",
    "\n",
    "# Resultater\n",
    "print(f\"Variabler valgt med AIC: {selected_aic}\")\n",
    "print(model_aic.summary())\n",
    "\n",
    "print(f\"\\nVariabler valgt med BIC: {selected_bic}\")\n",
    "print(model_bic.summary())"
   ]
  },
  {
   "cell_type": "code",
   "execution_count": null,
   "id": "d7640571-3fa4-4b22-a16a-38bce9c4c444",
   "metadata": {},
   "outputs": [],
   "source": []
  }
 ],
 "metadata": {
  "kernelspec": {
   "display_name": "Python (letten)",
   "language": "python",
   "name": "letten"
  },
  "language_info": {
   "codemirror_mode": {
    "name": "ipython",
    "version": 3
   },
   "file_extension": ".py",
   "mimetype": "text/x-python",
   "name": "python",
   "nbconvert_exporter": "python",
   "pygments_lexer": "ipython3",
   "version": "3.12.2"
  }
 },
 "nbformat": 4,
 "nbformat_minor": 5
}
